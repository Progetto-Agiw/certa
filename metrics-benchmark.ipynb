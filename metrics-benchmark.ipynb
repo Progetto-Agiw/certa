{
 "cells": [
  {
   "cell_type": "code",
   "execution_count": 1,
   "id": "cooperative-orchestra",
   "metadata": {},
   "outputs": [],
   "source": [
    "import matplotlib \n",
    "import matplotlib.pyplot as plt"
   ]
  },
  {
   "cell_type": "code",
   "execution_count": 2,
   "id": "chemical-metropolitan",
   "metadata": {},
   "outputs": [],
   "source": [
    "import example_deeper\n",
    "import certa.metrics"
   ]
  },
  {
   "cell_type": "code",
   "execution_count": 3,
   "id": "ready-illinois",
   "metadata": {},
   "outputs": [],
   "source": [
    "tests = {\n",
    "    \"jaccard\" : example_deeper.run(certa.metrics.jaccard_similarity),\n",
    "    \"manhattan\" : example_deeper.run(certa.metrics.manhattan_distance),\n",
    "    \"cosine\" : example_deeper.run(certa.metrics.get_cosine),\n",
    "    \"euclidean\" : example_deeper.run(certa.metrics.euclidean_distance),\n",
    "    \"mahalanobis\" : example_deeper.run(certa.metrics.mahalanobis_distance),\n",
    "}"
   ]
  },
  {
   "cell_type": "code",
   "execution_count": null,
   "id": "affiliated-completion",
   "metadata": {
    "scrolled": true
   },
   "outputs": [
    {
     "name": "stdout",
     "output_type": "stream",
     "text": [
      "Starting test for: jaccard\n",
      "Model: \"model\"\n",
      "__________________________________________________________________________________________________\n",
      "Layer (type)                    Output Shape         Param #     Connected to                     \n",
      "==================================================================================================\n",
      "Tupla_A (InputLayer)            [(None, None)]       0                                            \n",
      "__________________________________________________________________________________________________\n",
      "Tupla_B (InputLayer)            [(None, None)]       0                                            \n",
      "__________________________________________________________________________________________________\n",
      "Embedding_lookup (Embedding)    (None, None, 50)     20000100    Tupla_A[0][0]                    \n",
      "                                                                 Tupla_B[0][0]                    \n",
      "==================================================================================================\n",
      "Total params: 20,000,100\n",
      "Trainable params: 0\n",
      "Non-trainable params: 20,000,100\n",
      "__________________________________________________________________________________________________\n"
     ]
    },
    {
     "name": "stderr",
     "output_type": "stream",
     "text": [
      "100%|██████████| 8/8 [00:03<00:00,  2.18it/s]\n",
      "100%|██████████| 8/8 [00:01<00:00,  5.11it/s]\n",
      "100%|██████████| 8/8 [00:01<00:00,  5.16it/s]\n",
      "100%|██████████| 8/8 [00:01<00:00,  5.03it/s]\n"
     ]
    },
    {
     "name": "stdout",
     "output_type": "stream",
     "text": [
      "(0.03805216295378549, 0.0)\n",
      "Starting test for: manhattan\n"
     ]
    }
   ],
   "source": [
    "tests_results = {}\n",
    "for test_name, test in tests.items():\n",
    "    print(\"Starting test for:\", test_name)\n",
    "    results = []\n",
    "    for _, _, mean, impact in test:\n",
    "        result = mean, impact\n",
    "        print(result)\n",
    "        results.append(result)\n",
    "    tests_results[test_name] = results"
   ]
  },
  {
   "cell_type": "code",
   "execution_count": 13,
   "id": "vocational-blank",
   "metadata": {},
   "outputs": [
    {
     "data": {
      "text/plain": [
       "{'jaccard': [(0.04094181009518203, 0.005376344086021506)],\n",
       " 'manhattan': [(0.040075625885616646, 0.0)],\n",
       " 'cosine': [(0.029081665056267966, 0.0)],\n",
       " 'euclidean': [(0.030489127921021503, 0.0)],\n",
       " 'mahalanobis': [(0.02917441556399519, 0.0)]}"
      ]
     },
     "execution_count": 13,
     "metadata": {},
     "output_type": "execute_result"
    }
   ],
   "source": [
    "tests_results"
   ]
  },
  {
   "cell_type": "markdown",
   "id": "native-picture",
   "metadata": {},
   "source": [
    "### TO-DO\n",
    "\n",
    "- mettere come parametri di run le varie metriche\n",
    "- bar plot per ogni metrica su impact e mean drop\n",
    "- effettuare scelta random delle coppie, invece che sequenziale (attenzione al seed)"
   ]
  },
  {
   "cell_type": "code",
   "execution_count": 6,
   "id": "imposed-entrepreneur",
   "metadata": {},
   "outputs": [],
   "source": [
    "#utility functions\n",
    "\n",
    "\n",
    "to_feature_index = {\n",
    "    \"mean_drop\": 0, \n",
    "    \"impact\": 1\n",
    "}\n",
    "\n",
    "'''\n",
    "extracts single feature from the results of a single metric test based on the name\n",
    "\n",
    "example: \n",
    "\n",
    "results = [(1, 2), (0, 50)]\n",
    "feature_name = \"mean_drop\"\n",
    "\n",
    "output = [1, 0]\n",
    "'''\n",
    "def get_feature(results, feature_name):\n",
    "    feature_name = feature_name.lower()\n",
    "    feature_index = to_feature_index[feature_name]\n",
    "    feature_results = []\n",
    "    for result in results:\n",
    "        feature_results.append(result[feature_index])\n",
    "    return feature_results\n",
    "\n",
    "\n",
    "def get_mean_drops(results):\n",
    "    return get_feature(results, \"mean_drop\")\n",
    "    \n",
    "def get_impacts(results):\n",
    "    return get_feature(results, \"impact\")\n",
    "\n",
    "\n",
    "def plot_results(mean_metrics_results, title): \n",
    "    plt.bar(range(len(mean_metrics_results)), list(mean_metrics_results.values()), align='center')\n",
    "    plt.xticks(range(len(mean_metrics_results)), list(mean_metrics_results.keys()))\n",
    "    plt.title(title)\n",
    "    plt.show()\n",
    "'''\n",
    "extracts single feature from the results of all the metric tests\n",
    "\n",
    "example: \n",
    "\n",
    "all_results = {\n",
    "    \"cosine\": [(20, 10), (-15, 0)],\n",
    "    \"euclidean\": [(77, 12), (42, -13)],\n",
    "}\n",
    "\n",
    "feature_name = \"mean_drop\"\n",
    "\n",
    "output = {\n",
    "    \"cosine\": [20, -15],\n",
    "    \"euclidean\": [77, 42],\n",
    "}\n",
    "'''\n",
    "def extract_feature(all_results, feature_name):\n",
    "    all_results_copy = all_results.copy()\n",
    "    for test_name, results_raw in all_results_copy.items():\n",
    "        results_filtered = get_feature(results_raw, feature_name)\n",
    "        all_results_copy[test_name] = results_filtered\n",
    "    return all_results_copy\n",
    "\n",
    "\n",
    "def mean_feature(feature_results):\n",
    "    import statistics\n",
    "    mean_results = {}\n",
    "    for test_name, results in feature_results.items():\n",
    "        mean_results[test_name] = statistics.mean(results)\n",
    "    return mean_results"
   ]
  },
  {
   "cell_type": "code",
   "execution_count": 7,
   "id": "frozen-beginning",
   "metadata": {},
   "outputs": [
    {
     "data": {
      "text/plain": [
       "{'jaccard': [0.04094181009518203],\n",
       " 'manhattan': [0.040075625885616646],\n",
       " 'cosine': [0.029081665056267966],\n",
       " 'euclidean': [0.030489127921021503],\n",
       " 'mahalanobis': [0.02917441556399519]}"
      ]
     },
     "execution_count": 7,
     "metadata": {},
     "output_type": "execute_result"
    }
   ],
   "source": [
    "extract_feature(tests_results, \"mean_drop\")"
   ]
  },
  {
   "cell_type": "code",
   "execution_count": 8,
   "id": "unlimited-poker",
   "metadata": {},
   "outputs": [
    {
     "data": {
      "text/plain": [
       "{'jaccard': [0.005376344086021506],\n",
       " 'manhattan': [0.0],\n",
       " 'cosine': [0.0],\n",
       " 'euclidean': [0.0],\n",
       " 'mahalanobis': [0.0]}"
      ]
     },
     "execution_count": 8,
     "metadata": {},
     "output_type": "execute_result"
    }
   ],
   "source": [
    "extract_feature(tests_results, \"impact\")"
   ]
  },
  {
   "cell_type": "code",
   "execution_count": 9,
   "id": "competent-analyst",
   "metadata": {},
   "outputs": [
    {
     "data": {
      "text/plain": [
       "{'jaccard': 0.04094181009518203,\n",
       " 'manhattan': 0.040075625885616646,\n",
       " 'cosine': 0.029081665056267966,\n",
       " 'euclidean': 0.030489127921021503,\n",
       " 'mahalanobis': 0.02917441556399519}"
      ]
     },
     "execution_count": 9,
     "metadata": {},
     "output_type": "execute_result"
    }
   ],
   "source": [
    "drops = extract_feature(tests_results, \"mean_drop\")\n",
    "mean_drops = mean_feature(drops)\n",
    "mean_drops"
   ]
  },
  {
   "cell_type": "code",
   "execution_count": 10,
   "id": "satellite-journalism",
   "metadata": {},
   "outputs": [
    {
     "data": {
      "image/png": "[encoded data removed]",
      "text/plain": [
       "<Figure size 432x288 with 1 Axes>"
      ]
     },
     "metadata": {
      "needs_background": "light"
     },
     "output_type": "display_data"
    }
   ],
   "source": [
    "plot_results(mean_drops, \"Mean drop\")"
   ]
  },
  {
   "cell_type": "code",
   "execution_count": null,
   "id": "existing-manner",
   "metadata": {},
   "outputs": [],
   "source": []
  }
 ],
 "metadata": {
  "kernelspec": {
   "display_name": "Python 3",
   "language": "python",
   "name": "python3"
  },
  "language_info": {
   "codemirror_mode": {
    "name": "ipython",
    "version": 3
   },
   "file_extension": ".py",
   "mimetype": "text/x-python",
   "name": "python",
   "nbconvert_exporter": "python",
   "pygments_lexer": "ipython3",
   "version": "3.8.5"
  }
 },
 "nbformat": 4,
 "nbformat_minor": 5
}
