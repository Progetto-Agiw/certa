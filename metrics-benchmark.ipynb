{
 "cells": [
  {
   "cell_type": "code",
   "execution_count": 1,
   "id": "cooperative-orchestra",
   "metadata": {},
   "outputs": [],
   "source": [
    "import matplotlib \n",
    "import matplotlib.pyplot as plt"
   ]
  },
  {
   "cell_type": "code",
   "execution_count": 2,
   "id": "chemical-metropolitan",
   "metadata": {},
   "outputs": [],
   "source": [
    "import example_deeper\n",
    "import certa.metrics"
   ]
  },
  {
   "cell_type": "code",
   "execution_count": 3,
   "id": "ready-illinois",
   "metadata": {},
   "outputs": [],
   "source": [
    "tests = {\n",
    "    \"jaccard\" : example_deeper.run(certa.metrics.jaccard_similarity),\n",
    "    \"manhattan\" : example_deeper.run(certa.metrics.manhattan_distance),\n",
    "    \"cosine\" : example_deeper.run(certa.metrics.get_cosine),\n",
    "    \"euclidean\" : example_deeper.run(certa.metrics.euclidean_distance),\n",
    "    \"mahalanobis\" : example_deeper.run(certa.metrics.mahalanobis_distance),\n",
    "}"
   ]
  },
  {
   "cell_type": "code",
   "execution_count": 4,
   "id": "affiliated-completion",
   "metadata": {
    "scrolled": false
   },
   "outputs": [
    {
     "name": "stdout",
     "output_type": "stream",
     "text": [
      "Starting test for: jaccard\n",
      "Model: \"model\"\n",
      "__________________________________________________________________________________________________\n",
      "Layer (type)                    Output Shape         Param #     Connected to                     \n",
      "==================================================================================================\n",
      "Tupla_A (InputLayer)            [(None, None)]       0                                            \n",
      "__________________________________________________________________________________________________\n",
      "Tupla_B (InputLayer)            [(None, None)]       0                                            \n",
      "__________________________________________________________________________________________________\n",
      "Embedding_lookup (Embedding)    (None, None, 50)     20000100    Tupla_A[0][0]                    \n",
      "                                                                 Tupla_B[0][0]                    \n",
      "==================================================================================================\n",
      "Total params: 20,000,100\n",
      "Trainable params: 0\n",
      "Non-trainable params: 20,000,100\n",
      "__________________________________________________________________________________________________\n",
      "[912, 204, 2253] [1003, 914, 571]\n",
      "912 1003\n"
     ]
    },
    {
     "name": "stderr",
     "output_type": "stream",
     "text": [
      "100%|██████████| 2/2 [00:02<00:00,  1.09s/it]\n"
     ]
    },
    {
     "name": "stdout",
     "output_type": "stream",
     "text": [
      "204 914\n"
     ]
    },
    {
     "name": "stderr",
     "output_type": "stream",
     "text": [
      "100%|██████████| 5/5 [00:01<00:00,  4.95it/s]\n"
     ]
    },
    {
     "name": "stdout",
     "output_type": "stream",
     "text": [
      "2253 571\n"
     ]
    },
    {
     "name": "stderr",
     "output_type": "stream",
     "text": [
      "100%|██████████| 3/3 [00:00<00:00,  5.14it/s]\n"
     ]
    },
    {
     "name": "stdout",
     "output_type": "stream",
     "text": [
      "(0.05519785483678182, 0.0)\n",
      "912 1003\n"
     ]
    },
    {
     "name": "stderr",
     "output_type": "stream",
     "text": [
      "100%|██████████| 5/5 [00:00<00:00,  5.00it/s]\n"
     ]
    },
    {
     "name": "stdout",
     "output_type": "stream",
     "text": [
      "204 914\n"
     ]
    },
    {
     "name": "stderr",
     "output_type": "stream",
     "text": [
      "100%|██████████| 4/4 [00:00<00:00,  5.01it/s]\n"
     ]
    },
    {
     "name": "stdout",
     "output_type": "stream",
     "text": [
      "2253 571\n"
     ]
    },
    {
     "name": "stderr",
     "output_type": "stream",
     "text": [
      "100%|██████████| 5/5 [00:00<00:00,  5.15it/s]\n"
     ]
    },
    {
     "name": "stdout",
     "output_type": "stream",
     "text": [
      "(0.05325518362224102, 0.0)\n",
      "Starting test for: manhattan\n",
      "Model: \"model_1\"\n",
      "__________________________________________________________________________________________________\n",
      "Layer (type)                    Output Shape         Param #     Connected to                     \n",
      "==================================================================================================\n",
      "Tupla_A (InputLayer)            [(None, None)]       0                                            \n",
      "__________________________________________________________________________________________________\n",
      "Tupla_B (InputLayer)            [(None, None)]       0                                            \n",
      "__________________________________________________________________________________________________\n",
      "Embedding_lookup (Embedding)    (None, None, 50)     20000100    Tupla_A[0][0]                    \n",
      "                                                                 Tupla_B[0][0]                    \n",
      "==================================================================================================\n",
      "Total params: 20,000,100\n",
      "Trainable params: 0\n",
      "Non-trainable params: 20,000,100\n",
      "__________________________________________________________________________________________________\n",
      "[912, 204, 2253] [1003, 914, 571]\n",
      "912 1003\n"
     ]
    },
    {
     "name": "stderr",
     "output_type": "stream",
     "text": [
      "100%|██████████| 2/2 [00:01<00:00,  1.05it/s]\n"
     ]
    },
    {
     "name": "stdout",
     "output_type": "stream",
     "text": [
      "204 914\n"
     ]
    },
    {
     "name": "stderr",
     "output_type": "stream",
     "text": [
      "100%|██████████| 7/7 [00:01<00:00,  5.14it/s]\n"
     ]
    },
    {
     "name": "stdout",
     "output_type": "stream",
     "text": [
      "2253 571\n"
     ]
    },
    {
     "name": "stderr",
     "output_type": "stream",
     "text": [
      "100%|██████████| 4/4 [00:00<00:00,  5.08it/s]\n"
     ]
    },
    {
     "name": "stdout",
     "output_type": "stream",
     "text": [
      "(0.030221243699391682, 0.0)\n",
      "912 1003\n"
     ]
    },
    {
     "name": "stderr",
     "output_type": "stream",
     "text": [
      "100%|██████████| 5/5 [00:01<00:00,  4.93it/s]\n"
     ]
    },
    {
     "name": "stdout",
     "output_type": "stream",
     "text": [
      "204 914\n"
     ]
    },
    {
     "name": "stderr",
     "output_type": "stream",
     "text": [
      "100%|██████████| 6/6 [00:01<00:00,  5.05it/s]\n"
     ]
    },
    {
     "name": "stdout",
     "output_type": "stream",
     "text": [
      "2253 571\n"
     ]
    },
    {
     "name": "stderr",
     "output_type": "stream",
     "text": [
      "100%|██████████| 6/6 [00:01<00:00,  5.23it/s]\n"
     ]
    },
    {
     "name": "stdout",
     "output_type": "stream",
     "text": [
      "(0.04222912284044119, 0.0)\n",
      "Starting test for: cosine\n",
      "Model: \"model_2\"\n",
      "__________________________________________________________________________________________________\n",
      "Layer (type)                    Output Shape         Param #     Connected to                     \n",
      "==================================================================================================\n",
      "Tupla_A (InputLayer)            [(None, None)]       0                                            \n",
      "__________________________________________________________________________________________________\n",
      "Tupla_B (InputLayer)            [(None, None)]       0                                            \n",
      "__________________________________________________________________________________________________\n",
      "Embedding_lookup (Embedding)    (None, None, 50)     20000100    Tupla_A[0][0]                    \n",
      "                                                                 Tupla_B[0][0]                    \n",
      "==================================================================================================\n",
      "Total params: 20,000,100\n",
      "Trainable params: 0\n",
      "Non-trainable params: 20,000,100\n",
      "__________________________________________________________________________________________________\n",
      "[912, 204, 2253] [1003, 914, 571]\n",
      "912 1003\n"
     ]
    },
    {
     "name": "stderr",
     "output_type": "stream",
     "text": [
      "0it [00:00, ?it/s]\n"
     ]
    },
    {
     "name": "stdout",
     "output_type": "stream",
     "text": [
      "204 914\n"
     ]
    },
    {
     "name": "stderr",
     "output_type": "stream",
     "text": [
      "100%|██████████| 4/4 [00:00<00:00,  5.08it/s]\n"
     ]
    },
    {
     "name": "stdout",
     "output_type": "stream",
     "text": [
      "2253 571\n"
     ]
    },
    {
     "name": "stderr",
     "output_type": "stream",
     "text": [
      "100%|██████████| 2/2 [00:00<00:00,  5.07it/s]\n"
     ]
    },
    {
     "name": "stdout",
     "output_type": "stream",
     "text": [
      "(0.05253673096497854, 0.0)\n",
      "912 1003\n"
     ]
    },
    {
     "name": "stderr",
     "output_type": "stream",
     "text": [
      "100%|██████████| 3/3 [00:00<00:00,  5.20it/s]\n"
     ]
    },
    {
     "name": "stdout",
     "output_type": "stream",
     "text": [
      "204 914\n"
     ]
    },
    {
     "name": "stderr",
     "output_type": "stream",
     "text": [
      "100%|██████████| 1/1 [00:00<00:00,  3.77it/s]\n"
     ]
    },
    {
     "name": "stdout",
     "output_type": "stream",
     "text": [
      "2253 571\n"
     ]
    },
    {
     "name": "stderr",
     "output_type": "stream",
     "text": [
      "100%|██████████| 5/5 [00:00<00:00,  5.16it/s]\n"
     ]
    },
    {
     "name": "stdout",
     "output_type": "stream",
     "text": [
      "(0.054276888187115006, 0.0)\n",
      "Starting test for: euclidean\n",
      "Model: \"model_3\"\n",
      "__________________________________________________________________________________________________\n",
      "Layer (type)                    Output Shape         Param #     Connected to                     \n",
      "==================================================================================================\n",
      "Tupla_A (InputLayer)            [(None, None)]       0                                            \n",
      "__________________________________________________________________________________________________\n",
      "Tupla_B (InputLayer)            [(None, None)]       0                                            \n",
      "__________________________________________________________________________________________________\n",
      "Embedding_lookup (Embedding)    (None, None, 50)     20000100    Tupla_A[0][0]                    \n",
      "                                                                 Tupla_B[0][0]                    \n",
      "==================================================================================================\n",
      "Total params: 20,000,100\n",
      "Trainable params: 0\n",
      "Non-trainable params: 20,000,100\n",
      "__________________________________________________________________________________________________\n",
      "[912, 204, 2253] [1003, 914, 571]\n",
      "912 1003\n"
     ]
    },
    {
     "name": "stderr",
     "output_type": "stream",
     "text": [
      "100%|██████████| 4/4 [00:02<00:00,  1.79it/s]\n"
     ]
    },
    {
     "name": "stdout",
     "output_type": "stream",
     "text": [
      "204 914\n"
     ]
    },
    {
     "name": "stderr",
     "output_type": "stream",
     "text": [
      "100%|██████████| 1/1 [00:00<00:00,  4.67it/s]\n"
     ]
    },
    {
     "name": "stdout",
     "output_type": "stream",
     "text": [
      "2253 571\n"
     ]
    },
    {
     "name": "stderr",
     "output_type": "stream",
     "text": [
      "100%|██████████| 3/3 [00:00<00:00,  4.98it/s]\n"
     ]
    },
    {
     "name": "stdout",
     "output_type": "stream",
     "text": [
      "(0.05915000041325887, 0.0)\n",
      "912 1003\n"
     ]
    },
    {
     "name": "stderr",
     "output_type": "stream",
     "text": [
      "100%|██████████| 5/5 [00:01<00:00,  4.74it/s]\n"
     ]
    },
    {
     "name": "stdout",
     "output_type": "stream",
     "text": [
      "204 914\n"
     ]
    },
    {
     "name": "stderr",
     "output_type": "stream",
     "text": [
      "100%|██████████| 5/5 [00:01<00:00,  4.87it/s]\n"
     ]
    },
    {
     "name": "stdout",
     "output_type": "stream",
     "text": [
      "2253 571\n"
     ]
    },
    {
     "name": "stderr",
     "output_type": "stream",
     "text": [
      "100%|██████████| 4/4 [00:00<00:00,  5.04it/s]\n"
     ]
    },
    {
     "name": "stdout",
     "output_type": "stream",
     "text": [
      "(0.051161565563895485, 0.0)\n",
      "Starting test for: mahalanobis\n",
      "Model: \"model_4\"\n",
      "__________________________________________________________________________________________________\n",
      "Layer (type)                    Output Shape         Param #     Connected to                     \n",
      "==================================================================================================\n",
      "Tupla_A (InputLayer)            [(None, None)]       0                                            \n",
      "__________________________________________________________________________________________________\n",
      "Tupla_B (InputLayer)            [(None, None)]       0                                            \n",
      "__________________________________________________________________________________________________\n",
      "Embedding_lookup (Embedding)    (None, None, 50)     20000100    Tupla_A[0][0]                    \n",
      "                                                                 Tupla_B[0][0]                    \n",
      "==================================================================================================\n",
      "Total params: 20,000,100\n",
      "Trainable params: 0\n",
      "Non-trainable params: 20,000,100\n",
      "__________________________________________________________________________________________________\n",
      "[912, 204, 2253] [1003, 914, 571]\n",
      "912 1003\n"
     ]
    },
    {
     "name": "stderr",
     "output_type": "stream",
     "text": [
      "100%|██████████| 6/6 [00:02<00:00,  2.23it/s]\n"
     ]
    },
    {
     "name": "stdout",
     "output_type": "stream",
     "text": [
      "204 914\n"
     ]
    },
    {
     "name": "stderr",
     "output_type": "stream",
     "text": [
      "100%|██████████| 4/4 [00:00<00:00,  5.08it/s]\n"
     ]
    },
    {
     "name": "stdout",
     "output_type": "stream",
     "text": [
      "2253 571\n"
     ]
    },
    {
     "name": "stderr",
     "output_type": "stream",
     "text": [
      "100%|██████████| 3/3 [00:00<00:00,  5.14it/s]\n"
     ]
    },
    {
     "name": "stdout",
     "output_type": "stream",
     "text": [
      "(0.043410236636797585, 0.0)\n",
      "912 1003\n"
     ]
    },
    {
     "name": "stderr",
     "output_type": "stream",
     "text": [
      "100%|██████████| 4/4 [00:00<00:00,  5.04it/s]\n"
     ]
    },
    {
     "name": "stdout",
     "output_type": "stream",
     "text": [
      "204 914\n"
     ]
    },
    {
     "name": "stderr",
     "output_type": "stream",
     "text": [
      "100%|██████████| 5/5 [00:00<00:00,  5.07it/s]\n"
     ]
    },
    {
     "name": "stdout",
     "output_type": "stream",
     "text": [
      "2253 571\n"
     ]
    },
    {
     "name": "stderr",
     "output_type": "stream",
     "text": [
      "100%|██████████| 3/3 [00:00<00:00,  4.78it/s]\n"
     ]
    },
    {
     "name": "stdout",
     "output_type": "stream",
     "text": [
      "(0.04900886462284969, 0.0)\n"
     ]
    }
   ],
   "source": [
    "tests_results = {}\n",
    "for test_name, test in tests.items():\n",
    "    print(\"Starting test for:\", test_name)\n",
    "    results = []\n",
    "    for _, _, mean, impact in test:\n",
    "        result = mean, impact\n",
    "        print(result)\n",
    "        results.append(result)\n",
    "    tests_results[test_name] = results"
   ]
  },
  {
   "cell_type": "code",
   "execution_count": 5,
   "id": "vocational-blank",
   "metadata": {},
   "outputs": [
    {
     "data": {
      "text/plain": [
       "{'jaccard': [(0.05519785483678182, 0.0), (0.05325518362224102, 0.0)],\n",
       " 'manhattan': [(0.030221243699391682, 0.0), (0.04222912284044119, 0.0)],\n",
       " 'cosine': [(0.05253673096497854, 0.0), (0.054276888187115006, 0.0)],\n",
       " 'euclidean': [(0.05915000041325887, 0.0), (0.051161565563895485, 0.0)],\n",
       " 'mahalanobis': [(0.043410236636797585, 0.0), (0.04900886462284969, 0.0)]}"
      ]
     },
     "execution_count": 5,
     "metadata": {},
     "output_type": "execute_result"
    }
   ],
   "source": [
    "tests_results"
   ]
  },
  {
   "cell_type": "markdown",
   "id": "native-picture",
   "metadata": {},
   "source": [
    "### TO-DO\n",
    "\n",
    "- effettuare scelta random delle coppie, invece che sequenziale (attenzione al seed)"
   ]
  },
  {
   "cell_type": "code",
   "execution_count": 6,
   "id": "imposed-entrepreneur",
   "metadata": {},
   "outputs": [],
   "source": [
    "#utility functions\n",
    "\n",
    "\n",
    "to_feature_index = {\n",
    "    \"mean_drop\": 0, \n",
    "    \"impact\": 1\n",
    "}\n",
    "\n",
    "'''\n",
    "extracts single feature from the results of a single metric test based on the name\n",
    "\n",
    "example: \n",
    "\n",
    "results = [(1, 2), (0, 50)]\n",
    "feature_name = \"mean_drop\"\n",
    "\n",
    "output = [1, 0]\n",
    "'''\n",
    "def get_feature(results, feature_name):\n",
    "    feature_name = feature_name.lower()\n",
    "    feature_index = to_feature_index[feature_name]\n",
    "    feature_results = []\n",
    "    for result in results:\n",
    "        feature_results.append(result[feature_index])\n",
    "    return feature_results\n",
    "\n",
    "\n",
    "def get_mean_drops(results):\n",
    "    return get_feature(results, \"mean_drop\")\n",
    "    \n",
    "def get_impacts(results):\n",
    "    return get_feature(results, \"impact\")\n",
    "\n",
    "\n",
    "def plot_results(mean_metrics_results, title): \n",
    "    plt.bar(range(len(mean_metrics_results)), list(mean_metrics_results.values()), align='center')\n",
    "    plt.xticks(range(len(mean_metrics_results)), list(mean_metrics_results.keys()))\n",
    "    plt.title(title)\n",
    "    plt.show()\n",
    "'''\n",
    "extracts single feature from the results of all the metric tests\n",
    "\n",
    "example: \n",
    "\n",
    "all_results = {\n",
    "    \"cosine\": [(20, 10), (-15, 0)],\n",
    "    \"euclidean\": [(77, 12), (42, -13)],\n",
    "}\n",
    "\n",
    "feature_name = \"mean_drop\"\n",
    "\n",
    "output = {\n",
    "    \"cosine\": [20, -15],\n",
    "    \"euclidean\": [77, 42],\n",
    "}\n",
    "'''\n",
    "def extract_feature(all_results, feature_name):\n",
    "    all_results_copy = all_results.copy()\n",
    "    for test_name, results_raw in all_results_copy.items():\n",
    "        results_filtered = get_feature(results_raw, feature_name)\n",
    "        all_results_copy[test_name] = results_filtered\n",
    "    return all_results_copy\n",
    "\n",
    "\n",
    "def mean_feature(feature_results):\n",
    "    import statistics\n",
    "    mean_results = {}\n",
    "    for test_name, results in feature_results.items():\n",
    "        mean_results[test_name] = statistics.mean(results)\n",
    "    return mean_results"
   ]
  },
  {
   "cell_type": "code",
   "execution_count": 7,
   "id": "frozen-beginning",
   "metadata": {},
   "outputs": [
    {
     "data": {
      "text/plain": [
       "{'jaccard': [0.05519785483678182, 0.05325518362224102],\n",
       " 'manhattan': [0.030221243699391682, 0.04222912284044119],\n",
       " 'cosine': [0.05253673096497854, 0.054276888187115006],\n",
       " 'euclidean': [0.05915000041325887, 0.051161565563895485],\n",
       " 'mahalanobis': [0.043410236636797585, 0.04900886462284969]}"
      ]
     },
     "execution_count": 7,
     "metadata": {},
     "output_type": "execute_result"
    }
   ],
   "source": [
    "extract_feature(tests_results, \"mean_drop\")"
   ]
  },
  {
   "cell_type": "code",
   "execution_count": 8,
   "id": "unlimited-poker",
   "metadata": {},
   "outputs": [
    {
     "data": {
      "text/plain": [
       "{'jaccard': [0.0, 0.0],\n",
       " 'manhattan': [0.0, 0.0],\n",
       " 'cosine': [0.0, 0.0],\n",
       " 'euclidean': [0.0, 0.0],\n",
       " 'mahalanobis': [0.0, 0.0]}"
      ]
     },
     "execution_count": 8,
     "metadata": {},
     "output_type": "execute_result"
    }
   ],
   "source": [
    "extract_feature(tests_results, \"impact\")"
   ]
  },
  {
   "cell_type": "code",
   "execution_count": 9,
   "id": "cubic-geometry",
   "metadata": {},
   "outputs": [
    {
     "data": {
      "text/plain": [
       "{'jaccard': 0.054226519229511425,\n",
       " 'manhattan': 0.03622518326991644,\n",
       " 'cosine': 0.05340680957604677,\n",
       " 'euclidean': 0.05515578298857718,\n",
       " 'mahalanobis': 0.04620955062982364}"
      ]
     },
     "execution_count": 9,
     "metadata": {},
     "output_type": "execute_result"
    }
   ],
   "source": [
    "drops = extract_feature(tests_results, \"mean_drop\")\n",
    "mean_drops = mean_feature(drops)\n",
    "mean_drops"
   ]
  },
  {
   "cell_type": "code",
   "execution_count": 10,
   "id": "competent-analyst",
   "metadata": {},
   "outputs": [
    {
     "data": {
      "text/plain": [
       "{'jaccard': 0.0,\n",
       " 'manhattan': 0.0,\n",
       " 'cosine': 0.0,\n",
       " 'euclidean': 0.0,\n",
       " 'mahalanobis': 0.0}"
      ]
     },
     "execution_count": 10,
     "metadata": {},
     "output_type": "execute_result"
    }
   ],
   "source": [
    "impacts = extract_feature(tests_results, \"impact\")\n",
    "mean_impacts = mean_feature(impacts)\n",
    "mean_impacts"
   ]
  },
  {
   "cell_type": "code",
   "execution_count": 11,
   "id": "satellite-journalism",
   "metadata": {},
   "outputs": [
    {
     "data": {
      "image/png": "[encoded data removed]",
      "text/plain": [
       "<Figure size 432x288 with 1 Axes>"
      ]
     },
     "metadata": {
      "needs_background": "light"
     },
     "output_type": "display_data"
    }
   ],
   "source": [
    "plot_results(mean_drops, \"Mean drop\")"
   ]
  },
  {
   "cell_type": "code",
   "execution_count": 12,
   "id": "existing-manner",
   "metadata": {},
   "outputs": [
    {
     "data": {
      "image/png": "[encoded data removed]",
      "text/plain": [
       "<Figure size 432x288 with 1 Axes>"
      ]
     },
     "metadata": {
      "needs_background": "light"
     },
     "output_type": "display_data"
    }
   ],
   "source": [
    "plot_results(mean_impacts, \"Mean impacts\")"
   ]
  },
  {
   "cell_type": "code",
   "execution_count": null,
   "id": "laden-columbia",
   "metadata": {},
   "outputs": [],
   "source": []
  }
 ],
 "metadata": {
  "kernelspec": {
   "display_name": "Python 3",
   "language": "python",
   "name": "python3"
  },
  "language_info": {
   "codemirror_mode": {
    "name": "ipython",
    "version": 3
   },
   "file_extension": ".py",
   "mimetype": "text/x-python",
   "name": "python",
   "nbconvert_exporter": "python",
   "pygments_lexer": "ipython3",
   "version": "3.8.5"
  }
 },
 "nbformat": 4,
 "nbformat_minor": 5
}
