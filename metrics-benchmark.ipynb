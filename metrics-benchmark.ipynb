{
 "cells": [
  {
   "cell_type": "code",
   "execution_count": 1,
   "id": "favorite-upgrade",
   "metadata": {},
   "outputs": [],
   "source": [
    "import matplotlib \n",
    "import matplotlib.pyplot as plt"
   ]
  },
  {
   "cell_type": "code",
   "execution_count": 2,
   "id": "intermediate-legislature",
   "metadata": {},
   "outputs": [],
   "source": [
    "import example_deeper"
   ]
  },
  {
   "cell_type": "code",
   "execution_count": 9,
   "id": "pretty-costume",
   "metadata": {},
   "outputs": [],
   "source": [
    "iterator = example_deeper.run()"
   ]
  },
  {
   "cell_type": "code",
   "execution_count": 10,
   "id": "brazilian-brass",
   "metadata": {
    "scrolled": true
   },
   "outputs": [
    {
     "name": "stdout",
     "output_type": "stream",
     "text": [
      "* Costruzione indice degli embeddings.....Fatto. 400001 embeddings totali.\n",
      "* Creazione del modello per il calcolo degli embeddings....\n",
      "* Inizializzo il tokenizzatore.....Fatto: 400001 parole totali.\n",
      "* Preparazione della matrice di embedding.....Fatto. Dimensioni matrice embeddings: (400002, 50)\n",
      "\n",
      "°°° EMBEDDING MODEL °°°\n",
      "Model: \"model_2\"\n",
      "__________________________________________________________________________________________________\n",
      "Layer (type)                    Output Shape         Param #     Connected to                     \n",
      "==================================================================================================\n",
      "Tupla_A (InputLayer)            [(None, None)]       0                                            \n",
      "__________________________________________________________________________________________________\n",
      "Tupla_B (InputLayer)            [(None, None)]       0                                            \n",
      "__________________________________________________________________________________________________\n",
      "Embedding_lookup (Embedding)    (None, None, 50)     20000100    Tupla_A[0][0]                    \n",
      "                                                                 Tupla_B[0][0]                    \n",
      "==================================================================================================\n",
      "Total params: 20,000,100\n",
      "Trainable params: 0\n",
      "Non-trainable params: 20,000,100\n",
      "__________________________________________________________________________________________________\n",
      "running CERTA with nt=8\n"
     ]
    },
    {
     "name": "stderr",
     "output_type": "stream",
     "text": [
      "100%|██████████| 8/8 [00:03<00:00,  2.08it/s]\n"
     ]
    },
    {
     "name": "stdout",
     "output_type": "stream",
     "text": [
      "defaultdict(<class 'int'>, {'Beer_Name': 0.0, 'Style': 0.0, 'ABV': 0.0})\n",
      "   match  e_score      drop    n_drop perturb  flip  impact  n_impact  \\\n",
      "0      0      0.0  0.008281  0.008282    drop     0     0.0       0.0   \n",
      "1      0      0.0  0.000270  0.000271  sample     0     0.0       0.0   \n",
      "\n",
      "    attributes  e_size  prediction  row  \n",
      "0  [Beer_Name]       1    0.999939  1-1  \n",
      "1  [Beer_Name]       1    0.999939  1-1  \n",
      "   match  e_score          drop        n_drop perturb  flip  impact  n_impact  \\\n",
      "0      0      0.0  2.649665e-03  2.649827e-03    drop     0     0.0       0.0   \n",
      "1      0      0.0 -9.536743e-07 -9.537325e-07  sample     0     0.0       0.0   \n",
      "\n",
      "  attributes  e_size  prediction  row  \n",
      "0    [Style]       1    0.999939  1-1  \n",
      "1    [Style]       1    0.999939  1-1  \n",
      "   match  e_score      drop    n_drop perturb  flip  impact  n_impact  \\\n",
      "0      0      0.0 -0.000007 -0.000007    drop     0     0.0       0.0   \n",
      "1      0      0.0  0.000001  0.000001  sample     0     0.0       0.0   \n",
      "\n",
      "  attributes  e_size  prediction  row  \n",
      "0      [ABV]       1    0.999939  1-1  \n",
      "1      [ABV]       1    0.999939  1-1  \n",
      "------------------------------------\n",
      "running CERTA with nt=10\n"
     ]
    },
    {
     "name": "stderr",
     "output_type": "stream",
     "text": [
      "100%|██████████| 10/10 [00:01<00:00,  5.20it/s]\n"
     ]
    },
    {
     "name": "stdout",
     "output_type": "stream",
     "text": [
      "defaultdict(<class 'int'>, {'Beer_Name': 0.0, 'Style': 0.0, 'ABV': 0.0})\n",
      "   match  e_score      drop    n_drop perturb  flip  impact  n_impact  \\\n",
      "0      0      0.0  0.008281  0.008282    drop     0     0.0       0.0   \n",
      "1      0      0.0  0.000315  0.000315  sample     0     0.0       0.0   \n",
      "\n",
      "    attributes  e_size  prediction  row  \n",
      "0  [Beer_Name]       1    0.999939  1-1  \n",
      "1  [Beer_Name]       1    0.999939  1-1  \n",
      "   match  e_score      drop    n_drop perturb  flip  impact  n_impact  \\\n",
      "0      0      0.0  0.002650  0.002650    drop     0     0.0       0.0   \n",
      "1      0      0.0  0.000012  0.000012  sample     0     0.0       0.0   \n",
      "\n",
      "  attributes  e_size  prediction  row  \n",
      "0    [Style]       1    0.999939  1-1  \n",
      "1    [Style]       1    0.999939  1-1  \n",
      "   match  e_score      drop    n_drop perturb  flip  impact  n_impact  \\\n",
      "0      0      0.0 -0.000007 -0.000007    drop     0     0.0       0.0   \n",
      "1      0      0.0  0.000022  0.000022  sample     0     0.0       0.0   \n",
      "\n",
      "  attributes  e_size  prediction  row  \n",
      "0      [ABV]       1    0.999939  1-1  \n",
      "1      [ABV]       1    0.999939  1-1  \n",
      "------------------------------------\n",
      "running CERTA with nt=50\n"
     ]
    },
    {
     "name": "stderr",
     "output_type": "stream",
     "text": [
      "100%|██████████| 50/50 [00:09<00:00,  5.45it/s]\n"
     ]
    },
    {
     "name": "stdout",
     "output_type": "stream",
     "text": [
      "defaultdict(<class 'int'>, {'Beer_Name': 0.08})\n",
      "   match  e_score      drop    n_drop perturb  flip  impact  n_impact  \\\n",
      "0      0     0.08  0.008281  0.008282    drop     0     0.0       0.0   \n",
      "1      0     0.08  0.000392  0.000392  sample     0     0.0       0.0   \n",
      "\n",
      "    attributes  e_size  prediction  row  \n",
      "0  [Beer_Name]       1    0.999939  1-1  \n",
      "1  [Beer_Name]       1    0.999939  1-1  \n",
      "------------------------------------\n"
     ]
    }
   ],
   "source": [
    "results = []\n",
    "for i in iterator:\n",
    "    results.append(i)"
   ]
  },
  {
   "cell_type": "code",
   "execution_count": 11,
   "id": "brilliant-nudist",
   "metadata": {},
   "outputs": [
    {
     "data": {
      "text/plain": [
       "[(0.0, 0.0, 0.0018658339977264404, 0.0),\n",
       " (0.0, 0.0, 0.0018723209698994954, 0.0),\n",
       " (0.0, 0.0, 0.0022243516785757883, 0.0)]"
      ]
     },
     "execution_count": 11,
     "metadata": {},
     "output_type": "execute_result"
    }
   ],
   "source": [
    "results"
   ]
  },
  {
   "cell_type": "code",
   "execution_count": null,
   "id": "stopped-reserve",
   "metadata": {},
   "outputs": [],
   "source": []
  }
 ],
 "metadata": {
  "kernelspec": {
   "display_name": "Python 3",
   "language": "python",
   "name": "python3"
  },
  "language_info": {
   "codemirror_mode": {
    "name": "ipython",
    "version": 3
   },
   "file_extension": ".py",
   "mimetype": "text/x-python",
   "name": "python",
   "nbconvert_exporter": "python",
   "pygments_lexer": "ipython3",
   "version": "3.8.5"
  }
 },
 "nbformat": 4,
 "nbformat_minor": 5
}
