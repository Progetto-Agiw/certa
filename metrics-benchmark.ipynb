{
 "cells": [
  {
   "cell_type": "code",
   "execution_count": 1,
   "id": "cooperative-orchestra",
   "metadata": {},
   "outputs": [],
   "source": [
    "import matplotlib \n",
    "import matplotlib.pyplot as plt"
   ]
  },
  {
   "cell_type": "code",
   "execution_count": 2,
   "id": "chemical-metropolitan",
   "metadata": {},
   "outputs": [],
   "source": [
    "import example_deeper\n",
    "import certa.metrics"
   ]
  },
  {
   "cell_type": "code",
   "execution_count": 3,
   "id": "ready-illinois",
   "metadata": {},
   "outputs": [],
   "source": [
    "n_tuples = 2\n",
    "n_triangles = [8, 10]\n",
    "#with higher values makes the thresholds (theta_min, theta_max) stricter\n",
    "threshold_tuning = -2\n",
    "\n",
    "tests = {\n",
    "    \"cosine\" : example_deeper.run(certa.metrics.get_cosine, n_tuples, n_triangles),\n",
    "    \"euclidean\" : example_deeper.run(certa.metrics.euclidean_distance, n_tuples, n_triangles),\n",
    "    \"manhattan\" : example_deeper.run(certa.metrics.manhattan_distance, n_tuples, n_triangles),\n",
    "    \"mahalanobis\" : example_deeper.run(certa.metrics.mahalanobis_distance, n_tuples, n_triangles),\n",
    "    \"jaccard\" : example_deeper.run(certa.metrics.jaccard_similarity, n_tuples, n_triangles),\n",
    "}"
   ]
  },
  {
   "cell_type": "code",
   "execution_count": 5,
   "id": "affiliated-completion",
   "metadata": {
    "scrolled": false
   },
   "outputs": [
    {
     "name": "stdout",
     "output_type": "stream",
     "text": [
      "Starting test for: cosine\n",
      "Starting test for: euclidean\n",
      "Model: \"functional_3\"\n",
      "__________________________________________________________________________________________________\n",
      "Layer (type)                    Output Shape         Param #     Connected to                     \n",
      "==================================================================================================\n",
      "Tupla_A (InputLayer)            [(None, None)]       0                                            \n",
      "__________________________________________________________________________________________________\n",
      "Tupla_B (InputLayer)            [(None, None)]       0                                            \n",
      "__________________________________________________________________________________________________\n",
      "Embedding_lookup (Embedding)    (None, None, 50)     20000100    Tupla_A[0][0]                    \n",
      "                                                                 Tupla_B[0][0]                    \n",
      "==================================================================================================\n",
      "Total params: 20,000,100\n",
      "Trainable params: 0\n",
      "Non-trainable params: 20,000,100\n",
      "__________________________________________________________________________________________________\n"
     ]
    },
    {
     "name": "stderr",
     "output_type": "stream",
     "text": [
      "100%|████████████████████████████████████████████████████████████████| 2/2 [00:02<00:00,  1.09s/it]\n",
      "0it [00:00, ?it/s]\n"
     ]
    },
    {
     "name": "stdout",
     "output_type": "stream",
     "text": [
      "nt: 8 \n",
      "# of unsuccessful pairs: 0 / 2\n",
      "(-0.032827749848365784, 0.0)\n"
     ]
    },
    {
     "name": "stderr",
     "output_type": "stream",
     "text": [
      "100%|████████████████████████████████████████████████████████████████| 2/2 [00:00<00:00,  8.09it/s]\n",
      "0it [00:00, ?it/s]\n"
     ]
    },
    {
     "name": "stdout",
     "output_type": "stream",
     "text": [
      "nt: 10 \n",
      "# of unsuccessful pairs: 0 / 2\n",
      "(-0.029980788628260296, 0.0)\n",
      "Starting test for: manhattan\n",
      "Model: \"functional_5\"\n",
      "__________________________________________________________________________________________________\n",
      "Layer (type)                    Output Shape         Param #     Connected to                     \n",
      "==================================================================================================\n",
      "Tupla_A (InputLayer)            [(None, None)]       0                                            \n",
      "__________________________________________________________________________________________________\n",
      "Tupla_B (InputLayer)            [(None, None)]       0                                            \n",
      "__________________________________________________________________________________________________\n",
      "Embedding_lookup (Embedding)    (None, None, 50)     20000100    Tupla_A[0][0]                    \n",
      "                                                                 Tupla_B[0][0]                    \n",
      "==================================================================================================\n",
      "Total params: 20,000,100\n",
      "Trainable params: 0\n",
      "Non-trainable params: 20,000,100\n",
      "__________________________________________________________________________________________________\n"
     ]
    },
    {
     "name": "stderr",
     "output_type": "stream",
     "text": [
      "100%|████████████████████████████████████████████████████████████████| 2/2 [00:02<00:00,  1.14s/it]\n",
      "100%|████████████████████████████████████████████████████████████████| 4/4 [00:00<00:00,  5.03it/s]\n"
     ]
    },
    {
     "name": "stdout",
     "output_type": "stream",
     "text": [
      "nt: 8 \n",
      "# of unsuccessful pairs: 0 / 2\n",
      "(0.011271201074123383, 0.0)\n"
     ]
    },
    {
     "name": "stderr",
     "output_type": "stream",
     "text": [
      "100%|████████████████████████████████████████████████████████████████| 5/5 [00:00<00:00,  7.04it/s]\n",
      "100%|████████████████████████████████████████████████████████████████| 4/4 [00:00<00:00,  6.99it/s]\n"
     ]
    },
    {
     "name": "stdout",
     "output_type": "stream",
     "text": [
      "nt: 10 \n",
      "# of unsuccessful pairs: 0 / 2\n",
      "(0.0009252279996871948, 0.0)\n",
      "Starting test for: mahalanobis\n",
      "Model: \"functional_7\"\n",
      "__________________________________________________________________________________________________\n",
      "Layer (type)                    Output Shape         Param #     Connected to                     \n",
      "==================================================================================================\n",
      "Tupla_A (InputLayer)            [(None, None)]       0                                            \n",
      "__________________________________________________________________________________________________\n",
      "Tupla_B (InputLayer)            [(None, None)]       0                                            \n",
      "__________________________________________________________________________________________________\n",
      "Embedding_lookup (Embedding)    (None, None, 50)     20000100    Tupla_A[0][0]                    \n",
      "                                                                 Tupla_B[0][0]                    \n",
      "==================================================================================================\n",
      "Total params: 20,000,100\n",
      "Trainable params: 0\n",
      "Non-trainable params: 20,000,100\n",
      "__________________________________________________________________________________________________\n"
     ]
    },
    {
     "name": "stderr",
     "output_type": "stream",
     "text": [
      "100%|████████████████████████████████████████████████████████████████| 4/4 [00:02<00:00,  1.59it/s]\n",
      "100%|████████████████████████████████████████████████████████████████| 2/2 [00:00<00:00,  7.55it/s]\n"
     ]
    },
    {
     "name": "stdout",
     "output_type": "stream",
     "text": [
      "nt: 8 \n",
      "# of unsuccessful pairs: 0 / 2\n",
      "(0.029054418206214905, 0.0)\n"
     ]
    },
    {
     "name": "stderr",
     "output_type": "stream",
     "text": [
      "100%|████████████████████████████████████████████████████████████████| 2/2 [00:00<00:00,  6.46it/s]\n",
      "100%|████████████████████████████████████████████████████████████████| 4/4 [00:00<00:00,  7.31it/s]\n"
     ]
    },
    {
     "name": "stdout",
     "output_type": "stream",
     "text": [
      "nt: 10 \n",
      "# of unsuccessful pairs: 0 / 2\n",
      "(-0.045353834118161886, 0.0)\n",
      "Starting test for: jaccard\n",
      "Model: \"functional_9\"\n",
      "__________________________________________________________________________________________________\n",
      "Layer (type)                    Output Shape         Param #     Connected to                     \n",
      "==================================================================================================\n",
      "Tupla_A (InputLayer)            [(None, None)]       0                                            \n",
      "__________________________________________________________________________________________________\n",
      "Tupla_B (InputLayer)            [(None, None)]       0                                            \n",
      "__________________________________________________________________________________________________\n",
      "Embedding_lookup (Embedding)    (None, None, 50)     20000100    Tupla_A[0][0]                    \n",
      "                                                                 Tupla_B[0][0]                    \n",
      "==================================================================================================\n",
      "Total params: 20,000,100\n",
      "Trainable params: 0\n",
      "Non-trainable params: 20,000,100\n",
      "__________________________________________________________________________________________________\n"
     ]
    },
    {
     "name": "stderr",
     "output_type": "stream",
     "text": [
      "100%|████████████████████████████████████████████████████████████████| 7/7 [00:02<00:00,  2.43it/s]\n",
      "100%|████████████████████████████████████████████████████████████████| 4/4 [00:00<00:00,  6.88it/s]\n"
     ]
    },
    {
     "name": "stdout",
     "output_type": "stream",
     "text": [
      "nt: 8 \n",
      "# of unsuccessful pairs: 0 / 2\n",
      "(0.011271201074123383, 0.0)\n"
     ]
    },
    {
     "name": "stderr",
     "output_type": "stream",
     "text": [
      "100%|████████████████████████████████████████████████████████████████| 7/7 [00:00<00:00,  7.01it/s]\n",
      "100%|████████████████████████████████████████████████████████████████| 2/2 [00:00<00:00,  6.65it/s]\n"
     ]
    },
    {
     "name": "stdout",
     "output_type": "stream",
     "text": [
      "nt: 10 \n",
      "# of unsuccessful pairs: 0 / 2\n",
      "(0.0009252279996871948, 0.0)\n"
     ]
    }
   ],
   "source": [
    "tests_results = {}\n",
    "for test_name, test in tests.items():\n",
    "    print(\"Starting test for:\", test_name)\n",
    "    results = []\n",
    "    for _, _, mean, impact in test:\n",
    "        result = mean, impact\n",
    "        print(result)\n",
    "        results.append(result)\n",
    "    tests_results[test_name] = results"
   ]
  },
  {
   "cell_type": "code",
   "execution_count": 6,
   "id": "vocational-blank",
   "metadata": {},
   "outputs": [
    {
     "data": {
      "text/plain": [
       "{'cosine': [],\n",
       " 'euclidean': [(-0.032827749848365784, 0.0), (-0.029980788628260296, 0.0)],\n",
       " 'manhattan': [(0.011271201074123383, 0.0), (0.0009252279996871948, 0.0)],\n",
       " 'mahalanobis': [(0.029054418206214905, 0.0), (-0.045353834118161886, 0.0)],\n",
       " 'jaccard': [(0.011271201074123383, 0.0), (0.0009252279996871948, 0.0)]}"
      ]
     },
     "execution_count": 6,
     "metadata": {},
     "output_type": "execute_result"
    }
   ],
   "source": [
    "tests_results"
   ]
  },
  {
   "cell_type": "code",
   "execution_count": 7,
   "id": "imposed-entrepreneur",
   "metadata": {},
   "outputs": [],
   "source": [
    "#utility functions\n",
    "\n",
    "\n",
    "to_feature_index = {\n",
    "    \"mean_drop\": 0, \n",
    "    \"impact\": 1\n",
    "}\n",
    "\n",
    "'''\n",
    "extracts single feature from the results of a single metric test based on the name\n",
    "\n",
    "example: \n",
    "\n",
    "results = [(1, 2), (0, 50)]\n",
    "feature_name = \"mean_drop\"\n",
    "\n",
    "output = [1, 0]\n",
    "'''\n",
    "def get_feature(results, feature_name):\n",
    "    feature_name = feature_name.lower()\n",
    "    feature_index = to_feature_index[feature_name]\n",
    "    feature_results = []\n",
    "    for result in results:\n",
    "        feature_results.append(result[feature_index])\n",
    "    return feature_results\n",
    "\n",
    "\n",
    "def get_mean_drops(results):\n",
    "    return get_feature(results, \"mean_drop\")\n",
    "    \n",
    "def get_impacts(results):\n",
    "    return get_feature(results, \"impact\")\n",
    "\n",
    "\n",
    "def plot_results(mean_metrics_results, title): \n",
    "    plt.bar(range(len(mean_metrics_results)), list(mean_metrics_results.values()), align='center')\n",
    "    plt.xticks(range(len(mean_metrics_results)), list(mean_metrics_results.keys()))\n",
    "    plt.title(title)\n",
    "    plt.show()\n",
    "'''\n",
    "extracts single feature from the results of all the metric tests\n",
    "\n",
    "example: \n",
    "\n",
    "all_results = {\n",
    "    \"cosine\": [(20, 10), (-15, 0)],\n",
    "    \"euclidean\": [(77, 12), (42, -13)],\n",
    "}\n",
    "\n",
    "feature_name = \"mean_drop\"\n",
    "\n",
    "output = {\n",
    "    \"cosine\": [20, -15],\n",
    "    \"euclidean\": [77, 42],\n",
    "}\n",
    "'''\n",
    "def extract_feature(all_results, feature_name):\n",
    "    all_results_copy = all_results.copy()\n",
    "    for test_name, results_raw in all_results_copy.items():\n",
    "        results_filtered = get_feature(results_raw, feature_name)\n",
    "        all_results_copy[test_name] = results_filtered\n",
    "    return all_results_copy\n",
    "\n",
    "\n",
    "def mean_feature(feature_results):\n",
    "    import statistics\n",
    "    mean_results = {}\n",
    "    for test_name, results in feature_results.items():\n",
    "        mean_results[test_name] = statistics.mean(results)\n",
    "    return mean_results"
   ]
  },
  {
   "cell_type": "code",
   "execution_count": 8,
   "id": "frozen-beginning",
   "metadata": {},
   "outputs": [
    {
     "data": {
      "text/plain": [
       "{'cosine': [],\n",
       " 'euclidean': [-0.032827749848365784, -0.029980788628260296],\n",
       " 'manhattan': [0.011271201074123383, 0.0009252279996871948],\n",
       " 'mahalanobis': [0.029054418206214905, -0.045353834118161886],\n",
       " 'jaccard': [0.011271201074123383, 0.0009252279996871948]}"
      ]
     },
     "execution_count": 8,
     "metadata": {},
     "output_type": "execute_result"
    }
   ],
   "source": [
    "extract_feature(tests_results, \"mean_drop\")"
   ]
  },
  {
   "cell_type": "code",
   "execution_count": 9,
   "id": "unlimited-poker",
   "metadata": {},
   "outputs": [
    {
     "data": {
      "text/plain": [
       "{'cosine': [],\n",
       " 'euclidean': [0.0, 0.0],\n",
       " 'manhattan': [0.0, 0.0],\n",
       " 'mahalanobis': [0.0, 0.0],\n",
       " 'jaccard': [0.0, 0.0]}"
      ]
     },
     "execution_count": 9,
     "metadata": {},
     "output_type": "execute_result"
    }
   ],
   "source": [
    "extract_feature(tests_results, \"impact\")"
   ]
  },
  {
   "cell_type": "code",
   "execution_count": 10,
   "id": "cubic-geometry",
   "metadata": {},
   "outputs": [
    {
     "ename": "StatisticsError",
     "evalue": "mean requires at least one data point",
     "output_type": "error",
     "traceback": [
      "\u001b[1;31m---------------------------------------------------------------------------\u001b[0m",
      "\u001b[1;31mStatisticsError\u001b[0m                           Traceback (most recent call last)",
      "\u001b[1;32m<ipython-input-10-3bfcdb2c2356>\u001b[0m in \u001b[0;36m<module>\u001b[1;34m\u001b[0m\n\u001b[0;32m      1\u001b[0m \u001b[0mdrops\u001b[0m \u001b[1;33m=\u001b[0m \u001b[0mextract_feature\u001b[0m\u001b[1;33m(\u001b[0m\u001b[0mtests_results\u001b[0m\u001b[1;33m,\u001b[0m \u001b[1;34m\"mean_drop\"\u001b[0m\u001b[1;33m)\u001b[0m\u001b[1;33m\u001b[0m\u001b[0m\n\u001b[1;32m----> 2\u001b[1;33m \u001b[0mmean_drops\u001b[0m \u001b[1;33m=\u001b[0m \u001b[0mmean_feature\u001b[0m\u001b[1;33m(\u001b[0m\u001b[0mdrops\u001b[0m\u001b[1;33m)\u001b[0m\u001b[1;33m\u001b[0m\u001b[0m\n\u001b[0m\u001b[0;32m      3\u001b[0m \u001b[0mmean_drops\u001b[0m\u001b[1;33m\u001b[0m\u001b[0m\n",
      "\u001b[1;32m<ipython-input-7-4648b549972e>\u001b[0m in \u001b[0;36mmean_feature\u001b[1;34m(feature_results)\u001b[0m\n\u001b[0;32m     67\u001b[0m     \u001b[0mmean_results\u001b[0m \u001b[1;33m=\u001b[0m \u001b[1;33m{\u001b[0m\u001b[1;33m}\u001b[0m\u001b[1;33m\u001b[0m\u001b[0m\n\u001b[0;32m     68\u001b[0m     \u001b[1;32mfor\u001b[0m \u001b[0mtest_name\u001b[0m\u001b[1;33m,\u001b[0m \u001b[0mresults\u001b[0m \u001b[1;32min\u001b[0m \u001b[0mfeature_results\u001b[0m\u001b[1;33m.\u001b[0m\u001b[0mitems\u001b[0m\u001b[1;33m(\u001b[0m\u001b[1;33m)\u001b[0m\u001b[1;33m:\u001b[0m\u001b[1;33m\u001b[0m\u001b[0m\n\u001b[1;32m---> 69\u001b[1;33m         \u001b[0mmean_results\u001b[0m\u001b[1;33m[\u001b[0m\u001b[0mtest_name\u001b[0m\u001b[1;33m]\u001b[0m \u001b[1;33m=\u001b[0m \u001b[0mstatistics\u001b[0m\u001b[1;33m.\u001b[0m\u001b[0mmean\u001b[0m\u001b[1;33m(\u001b[0m\u001b[0mresults\u001b[0m\u001b[1;33m)\u001b[0m\u001b[1;33m\u001b[0m\u001b[0m\n\u001b[0m\u001b[0;32m     70\u001b[0m     \u001b[1;32mreturn\u001b[0m \u001b[0mmean_results\u001b[0m\u001b[1;33m\u001b[0m\u001b[0m\n",
      "\u001b[1;32m~\\anaconda3\\envs\\certa-env\\lib\\statistics.py\u001b[0m in \u001b[0;36mmean\u001b[1;34m(data)\u001b[0m\n\u001b[0;32m    308\u001b[0m     \u001b[0mn\u001b[0m \u001b[1;33m=\u001b[0m \u001b[0mlen\u001b[0m\u001b[1;33m(\u001b[0m\u001b[0mdata\u001b[0m\u001b[1;33m)\u001b[0m\u001b[1;33m\u001b[0m\u001b[0m\n\u001b[0;32m    309\u001b[0m     \u001b[1;32mif\u001b[0m \u001b[0mn\u001b[0m \u001b[1;33m<\u001b[0m \u001b[1;36m1\u001b[0m\u001b[1;33m:\u001b[0m\u001b[1;33m\u001b[0m\u001b[0m\n\u001b[1;32m--> 310\u001b[1;33m         \u001b[1;32mraise\u001b[0m \u001b[0mStatisticsError\u001b[0m\u001b[1;33m(\u001b[0m\u001b[1;34m'mean requires at least one data point'\u001b[0m\u001b[1;33m)\u001b[0m\u001b[1;33m\u001b[0m\u001b[0m\n\u001b[0m\u001b[0;32m    311\u001b[0m     \u001b[0mT\u001b[0m\u001b[1;33m,\u001b[0m \u001b[0mtotal\u001b[0m\u001b[1;33m,\u001b[0m \u001b[0mcount\u001b[0m \u001b[1;33m=\u001b[0m \u001b[0m_sum\u001b[0m\u001b[1;33m(\u001b[0m\u001b[0mdata\u001b[0m\u001b[1;33m)\u001b[0m\u001b[1;33m\u001b[0m\u001b[0m\n\u001b[0;32m    312\u001b[0m     \u001b[1;32massert\u001b[0m \u001b[0mcount\u001b[0m \u001b[1;33m==\u001b[0m \u001b[0mn\u001b[0m\u001b[1;33m\u001b[0m\u001b[0m\n",
      "\u001b[1;31mStatisticsError\u001b[0m: mean requires at least one data point"
     ]
    }
   ],
   "source": [
    "drops = extract_feature(tests_results, \"mean_drop\")\n",
    "mean_drops = mean_feature(drops)\n",
    "mean_drops"
   ]
  },
  {
   "cell_type": "code",
   "execution_count": 11,
   "id": "competent-analyst",
   "metadata": {},
   "outputs": [
    {
     "ename": "StatisticsError",
     "evalue": "mean requires at least one data point",
     "output_type": "error",
     "traceback": [
      "\u001b[1;31m---------------------------------------------------------------------------\u001b[0m",
      "\u001b[1;31mStatisticsError\u001b[0m                           Traceback (most recent call last)",
      "\u001b[1;32m<ipython-input-11-a6b2d04a8755>\u001b[0m in \u001b[0;36m<module>\u001b[1;34m\u001b[0m\n\u001b[0;32m      1\u001b[0m \u001b[0mimpacts\u001b[0m \u001b[1;33m=\u001b[0m \u001b[0mextract_feature\u001b[0m\u001b[1;33m(\u001b[0m\u001b[0mtests_results\u001b[0m\u001b[1;33m,\u001b[0m \u001b[1;34m\"impact\"\u001b[0m\u001b[1;33m)\u001b[0m\u001b[1;33m\u001b[0m\u001b[0m\n\u001b[1;32m----> 2\u001b[1;33m \u001b[0mmean_impacts\u001b[0m \u001b[1;33m=\u001b[0m \u001b[0mmean_feature\u001b[0m\u001b[1;33m(\u001b[0m\u001b[0mimpacts\u001b[0m\u001b[1;33m)\u001b[0m\u001b[1;33m\u001b[0m\u001b[0m\n\u001b[0m\u001b[0;32m      3\u001b[0m \u001b[0mmean_impacts\u001b[0m\u001b[1;33m\u001b[0m\u001b[0m\n",
      "\u001b[1;32m<ipython-input-7-4648b549972e>\u001b[0m in \u001b[0;36mmean_feature\u001b[1;34m(feature_results)\u001b[0m\n\u001b[0;32m     67\u001b[0m     \u001b[0mmean_results\u001b[0m \u001b[1;33m=\u001b[0m \u001b[1;33m{\u001b[0m\u001b[1;33m}\u001b[0m\u001b[1;33m\u001b[0m\u001b[0m\n\u001b[0;32m     68\u001b[0m     \u001b[1;32mfor\u001b[0m \u001b[0mtest_name\u001b[0m\u001b[1;33m,\u001b[0m \u001b[0mresults\u001b[0m \u001b[1;32min\u001b[0m \u001b[0mfeature_results\u001b[0m\u001b[1;33m.\u001b[0m\u001b[0mitems\u001b[0m\u001b[1;33m(\u001b[0m\u001b[1;33m)\u001b[0m\u001b[1;33m:\u001b[0m\u001b[1;33m\u001b[0m\u001b[0m\n\u001b[1;32m---> 69\u001b[1;33m         \u001b[0mmean_results\u001b[0m\u001b[1;33m[\u001b[0m\u001b[0mtest_name\u001b[0m\u001b[1;33m]\u001b[0m \u001b[1;33m=\u001b[0m \u001b[0mstatistics\u001b[0m\u001b[1;33m.\u001b[0m\u001b[0mmean\u001b[0m\u001b[1;33m(\u001b[0m\u001b[0mresults\u001b[0m\u001b[1;33m)\u001b[0m\u001b[1;33m\u001b[0m\u001b[0m\n\u001b[0m\u001b[0;32m     70\u001b[0m     \u001b[1;32mreturn\u001b[0m \u001b[0mmean_results\u001b[0m\u001b[1;33m\u001b[0m\u001b[0m\n",
      "\u001b[1;32m~\\anaconda3\\envs\\certa-env\\lib\\statistics.py\u001b[0m in \u001b[0;36mmean\u001b[1;34m(data)\u001b[0m\n\u001b[0;32m    308\u001b[0m     \u001b[0mn\u001b[0m \u001b[1;33m=\u001b[0m \u001b[0mlen\u001b[0m\u001b[1;33m(\u001b[0m\u001b[0mdata\u001b[0m\u001b[1;33m)\u001b[0m\u001b[1;33m\u001b[0m\u001b[0m\n\u001b[0;32m    309\u001b[0m     \u001b[1;32mif\u001b[0m \u001b[0mn\u001b[0m \u001b[1;33m<\u001b[0m \u001b[1;36m1\u001b[0m\u001b[1;33m:\u001b[0m\u001b[1;33m\u001b[0m\u001b[0m\n\u001b[1;32m--> 310\u001b[1;33m         \u001b[1;32mraise\u001b[0m \u001b[0mStatisticsError\u001b[0m\u001b[1;33m(\u001b[0m\u001b[1;34m'mean requires at least one data point'\u001b[0m\u001b[1;33m)\u001b[0m\u001b[1;33m\u001b[0m\u001b[0m\n\u001b[0m\u001b[0;32m    311\u001b[0m     \u001b[0mT\u001b[0m\u001b[1;33m,\u001b[0m \u001b[0mtotal\u001b[0m\u001b[1;33m,\u001b[0m \u001b[0mcount\u001b[0m \u001b[1;33m=\u001b[0m \u001b[0m_sum\u001b[0m\u001b[1;33m(\u001b[0m\u001b[0mdata\u001b[0m\u001b[1;33m)\u001b[0m\u001b[1;33m\u001b[0m\u001b[0m\n\u001b[0;32m    312\u001b[0m     \u001b[1;32massert\u001b[0m \u001b[0mcount\u001b[0m \u001b[1;33m==\u001b[0m \u001b[0mn\u001b[0m\u001b[1;33m\u001b[0m\u001b[0m\n",
      "\u001b[1;31mStatisticsError\u001b[0m: mean requires at least one data point"
     ]
    }
   ],
   "source": [
    "impacts = extract_feature(tests_results, \"impact\")\n",
    "mean_impacts = mean_feature(impacts)\n",
    "mean_impacts"
   ]
  },
  {
   "cell_type": "code",
   "execution_count": null,
   "id": "satellite-journalism",
   "metadata": {},
   "outputs": [],
   "source": [
    "plot_results(mean_drops, \"Mean drop\")"
   ]
  },
  {
   "cell_type": "code",
   "execution_count": null,
   "id": "existing-manner",
   "metadata": {},
   "outputs": [],
   "source": [
    "plot_results(mean_impacts, \"Mean impacts\")"
   ]
  },
  {
   "cell_type": "code",
   "execution_count": null,
   "id": "laden-columbia",
   "metadata": {},
   "outputs": [],
   "source": []
  }
 ],
 "metadata": {
  "kernelspec": {
   "display_name": "Python 3",
   "language": "python",
   "name": "python3"
  },
  "language_info": {
   "codemirror_mode": {
    "name": "ipython",
    "version": 3
   },
   "file_extension": ".py",
   "mimetype": "text/x-python",
   "name": "python",
   "nbconvert_exporter": "python",
   "pygments_lexer": "ipython3",
   "version": "3.7.0"
  }
 },
 "nbformat": 4,
 "nbformat_minor": 5
}
