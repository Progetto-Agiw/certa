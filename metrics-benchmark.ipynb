{
 "cells": [
  {
   "cell_type": "code",
   "execution_count": 1,
   "id": "cooperative-orchestra",
   "metadata": {},
   "outputs": [],
   "source": [
    "import matplotlib \n",
    "import matplotlib.pyplot as plt"
   ]
  },
  {
   "cell_type": "code",
   "execution_count": 2,
   "id": "chemical-metropolitan",
   "metadata": {},
   "outputs": [],
   "source": [
    "import example_deeper\n",
    "import certa.metrics"
   ]
  },
  {
   "cell_type": "code",
   "execution_count": 3,
   "id": "ready-illinois",
   "metadata": {},
   "outputs": [],
   "source": [
    "n_tuples = 2\n",
    "n_triangles = [2, 5]\n",
    "#with higher values makes the thresholds (theta_min, theta_max) stricter\n",
    "threshold_tuning = -2\n",
    "\n",
    "tests = {\n",
    "    \"cosine\" : example_deeper.run(certa.metrics.get_cosine, n_tuples, n_triangles),\n",
    "    \"euclidean\" : example_deeper.run(certa.metrics.euclidean_distance, n_tuples, n_triangles),\n",
    "    \"manhattan\" : example_deeper.run(certa.metrics.manhattan_distance, n_tuples, n_triangles),\n",
    "    \"mahalanobis\" : example_deeper.run(certa.metrics.mahalanobis_distance, n_tuples, n_triangles),\n",
    "    \"jaccard\" : example_deeper.run(certa.metrics.jaccard_similarity, n_tuples, n_triangles),\n",
    "}"
   ]
  },
  {
   "cell_type": "code",
   "execution_count": 4,
   "id": "affiliated-completion",
   "metadata": {
    "scrolled": true
   },
   "outputs": [
    {
     "name": "stdout",
     "output_type": "stream",
     "text": [
      "Starting test for: cosine\n",
      "Model: \"model\"\n",
      "__________________________________________________________________________________________________\n",
      "Layer (type)                    Output Shape         Param #     Connected to                     \n",
      "==================================================================================================\n",
      "Tupla_A (InputLayer)            [(None, None)]       0                                            \n",
      "__________________________________________________________________________________________________\n",
      "Tupla_B (InputLayer)            [(None, None)]       0                                            \n",
      "__________________________________________________________________________________________________\n",
      "Embedding_lookup (Embedding)    (None, None, 50)     20000100    Tupla_A[0][0]                    \n",
      "                                                                 Tupla_B[0][0]                    \n",
      "==================================================================================================\n",
      "Total params: 20,000,100\n",
      "Trainable params: 0\n",
      "Non-trainable params: 20,000,100\n",
      "__________________________________________________________________________________________________\n"
     ]
    },
    {
     "name": "stderr",
     "output_type": "stream",
     "text": [
      "100%|██████████| 2/2 [00:01<00:00,  1.06it/s]\n",
      "0it [00:00, ?it/s]\n"
     ]
    },
    {
     "name": "stdout",
     "output_type": "stream",
     "text": [
      "nt: 2 \n",
      "# of unsuccessful pairs: 0 / 2\n",
      "(0.04878263672192892, 0.0)\n"
     ]
    },
    {
     "name": "stderr",
     "output_type": "stream",
     "text": [
      "100%|██████████| 5/5 [00:00<00:00,  5.91it/s]\n",
      "0it [00:00, ?it/s]\n"
     ]
    },
    {
     "name": "stdout",
     "output_type": "stream",
     "text": [
      "nt: 5 \n",
      "# of unsuccessful pairs: 0 / 2\n",
      "(0.04917379220326742, 0.0)\n",
      "Starting test for: euclidean\n",
      "Model: \"model_1\"\n",
      "__________________________________________________________________________________________________\n",
      "Layer (type)                    Output Shape         Param #     Connected to                     \n",
      "==================================================================================================\n",
      "Tupla_A (InputLayer)            [(None, None)]       0                                            \n",
      "__________________________________________________________________________________________________\n",
      "Tupla_B (InputLayer)            [(None, None)]       0                                            \n",
      "__________________________________________________________________________________________________\n",
      "Embedding_lookup (Embedding)    (None, None, 50)     20000100    Tupla_A[0][0]                    \n",
      "                                                                 Tupla_B[0][0]                    \n",
      "==================================================================================================\n",
      "Total params: 20,000,100\n",
      "Trainable params: 0\n",
      "Non-trainable params: 20,000,100\n",
      "__________________________________________________________________________________________________\n"
     ]
    },
    {
     "name": "stderr",
     "output_type": "stream",
     "text": [
      "0it [00:00, ?it/s]\n",
      "100%|██████████| 1/1 [00:00<00:00,  7.56it/s]\n"
     ]
    },
    {
     "name": "stdout",
     "output_type": "stream",
     "text": [
      "nt: 2 \n",
      "# of unsuccessful pairs: 0 / 2\n",
      "(-0.01262769103050232, 0.0)\n"
     ]
    },
    {
     "name": "stderr",
     "output_type": "stream",
     "text": [
      "100%|██████████| 3/3 [00:00<00:00,  7.33it/s]\n",
      "100%|██████████| 1/1 [00:00<00:00,  7.95it/s]\n"
     ]
    },
    {
     "name": "stdout",
     "output_type": "stream",
     "text": [
      "nt: 5 \n",
      "# of unsuccessful pairs: 0 / 2\n",
      "(0.024062538146972658, 0.0)\n",
      "Starting test for: manhattan\n",
      "Model: \"model_2\"\n",
      "__________________________________________________________________________________________________\n",
      "Layer (type)                    Output Shape         Param #     Connected to                     \n",
      "==================================================================================================\n",
      "Tupla_A (InputLayer)            [(None, None)]       0                                            \n",
      "__________________________________________________________________________________________________\n",
      "Tupla_B (InputLayer)            [(None, None)]       0                                            \n",
      "__________________________________________________________________________________________________\n",
      "Embedding_lookup (Embedding)    (None, None, 50)     20000100    Tupla_A[0][0]                    \n",
      "                                                                 Tupla_B[0][0]                    \n",
      "==================================================================================================\n",
      "Total params: 20,000,100\n",
      "Trainable params: 0\n",
      "Non-trainable params: 20,000,100\n",
      "__________________________________________________________________________________________________\n"
     ]
    },
    {
     "name": "stderr",
     "output_type": "stream",
     "text": [
      "100%|██████████| 2/2 [00:01<00:00,  1.33it/s]\n",
      "100%|██████████| 1/1 [00:00<00:00,  7.66it/s]\n"
     ]
    },
    {
     "name": "stdout",
     "output_type": "stream",
     "text": [
      "nt: 2 \n",
      "# of unsuccessful pairs: 0 / 2\n",
      "(0.034343128403027855, 0.0)\n"
     ]
    },
    {
     "name": "stderr",
     "output_type": "stream",
     "text": [
      "100%|██████████| 4/4 [00:00<00:00,  6.01it/s]\n",
      "100%|██████████| 1/1 [00:00<00:00,  7.17it/s]\n"
     ]
    },
    {
     "name": "stdout",
     "output_type": "stream",
     "text": [
      "nt: 5 \n",
      "# of unsuccessful pairs: 0 / 2\n",
      "(0.026837140321731567, 0.0)\n",
      "Starting test for: mahalanobis\n",
      "Model: \"model_3\"\n",
      "__________________________________________________________________________________________________\n",
      "Layer (type)                    Output Shape         Param #     Connected to                     \n",
      "==================================================================================================\n",
      "Tupla_A (InputLayer)            [(None, None)]       0                                            \n",
      "__________________________________________________________________________________________________\n",
      "Tupla_B (InputLayer)            [(None, None)]       0                                            \n",
      "__________________________________________________________________________________________________\n",
      "Embedding_lookup (Embedding)    (None, None, 50)     20000100    Tupla_A[0][0]                    \n",
      "                                                                 Tupla_B[0][0]                    \n",
      "==================================================================================================\n",
      "Total params: 20,000,100\n",
      "Trainable params: 0\n",
      "Non-trainable params: 20,000,100\n",
      "__________________________________________________________________________________________________\n"
     ]
    },
    {
     "name": "stderr",
     "output_type": "stream",
     "text": [
      "100%|██████████| 2/2 [00:02<00:00,  1.19s/it]\n",
      "100%|██████████| 1/1 [00:00<00:00,  8.61it/s]\n"
     ]
    },
    {
     "name": "stdout",
     "output_type": "stream",
     "text": [
      "nt: 2 \n",
      "# of unsuccessful pairs: 0 / 2\n",
      "(0.034343128403027855, 0.0)\n"
     ]
    },
    {
     "name": "stderr",
     "output_type": "stream",
     "text": [
      "100%|██████████| 4/4 [00:00<00:00,  8.91it/s]\n",
      "100%|██████████| 2/2 [00:00<00:00,  6.09it/s]\n"
     ]
    },
    {
     "name": "stdout",
     "output_type": "stream",
     "text": [
      "nt: 5 \n",
      "# of unsuccessful pairs: 0 / 2\n",
      "(0.04273578027884165, 0.0)\n",
      "Starting test for: jaccard\n",
      "Model: \"model_4\"\n",
      "__________________________________________________________________________________________________\n",
      "Layer (type)                    Output Shape         Param #     Connected to                     \n",
      "==================================================================================================\n",
      "Tupla_A (InputLayer)            [(None, None)]       0                                            \n",
      "__________________________________________________________________________________________________\n",
      "Tupla_B (InputLayer)            [(None, None)]       0                                            \n",
      "__________________________________________________________________________________________________\n",
      "Embedding_lookup (Embedding)    (None, None, 50)     20000100    Tupla_A[0][0]                    \n",
      "                                                                 Tupla_B[0][0]                    \n",
      "==================================================================================================\n",
      "Total params: 20,000,100\n",
      "Trainable params: 0\n",
      "Non-trainable params: 20,000,100\n",
      "__________________________________________________________________________________________________\n"
     ]
    },
    {
     "name": "stderr",
     "output_type": "stream",
     "text": [
      "100%|██████████| 1/1 [00:02<00:00,  2.14s/it]\n",
      "0it [00:00, ?it/s]\n"
     ]
    },
    {
     "name": "stdout",
     "output_type": "stream",
     "text": [
      "nt: 2 \n",
      "# of unsuccessful pairs: 0 / 2\n",
      "(0.04878263672192892, 0.0)\n"
     ]
    },
    {
     "name": "stderr",
     "output_type": "stream",
     "text": [
      "100%|██████████| 5/5 [00:00<00:00,  5.63it/s]\n",
      "0it [00:00, ?it/s]"
     ]
    },
    {
     "name": "stdout",
     "output_type": "stream",
     "text": [
      "nt: 5 \n",
      "# of unsuccessful pairs: 0 / 2\n",
      "(0.04917379220326742, 0.0)\n"
     ]
    },
    {
     "name": "stderr",
     "output_type": "stream",
     "text": [
      "\n"
     ]
    }
   ],
   "source": [
    "tests_results = {}\n",
    "for test_name, test in tests.items():\n",
    "    print(\"Starting test for:\", test_name)\n",
    "    results = []\n",
    "    for _, _, mean, impact in test:\n",
    "        result = mean, impact\n",
    "        print(result)\n",
    "        results.append(result)\n",
    "    tests_results[test_name] = results"
   ]
  },
  {
   "cell_type": "code",
   "execution_count": 5,
   "id": "vocational-blank",
   "metadata": {},
   "outputs": [
    {
     "data": {
      "text/plain": [
       "{'cosine': [(0.04878263672192892, 0.0), (0.04917379220326742, 0.0)],\n",
       " 'euclidean': [(-0.01262769103050232, 0.0), (0.024062538146972658, 0.0)],\n",
       " 'manhattan': [(0.034343128403027855, 0.0), (0.026837140321731567, 0.0)],\n",
       " 'mahalanobis': [(0.034343128403027855, 0.0), (0.04273578027884165, 0.0)],\n",
       " 'jaccard': [(0.04878263672192892, 0.0), (0.04917379220326742, 0.0)]}"
      ]
     },
     "execution_count": 5,
     "metadata": {},
     "output_type": "execute_result"
    }
   ],
   "source": [
    "tests_results"
   ]
  },
  {
   "cell_type": "code",
   "execution_count": 6,
   "id": "imposed-entrepreneur",
   "metadata": {},
   "outputs": [],
   "source": [
    "#utility functions\n",
    "\n",
    "\n",
    "to_feature_index = {\n",
    "    \"mean_drop\": 0, \n",
    "    \"impact\": 1\n",
    "}\n",
    "\n",
    "'''\n",
    "extracts single feature from the results of a single metric test based on the name\n",
    "\n",
    "example: \n",
    "\n",
    "results = [(1, 2), (0, 50)]\n",
    "feature_name = \"mean_drop\"\n",
    "\n",
    "output = [1, 0]\n",
    "'''\n",
    "def get_feature(results, feature_name):\n",
    "    feature_name = feature_name.lower()\n",
    "    feature_index = to_feature_index[feature_name]\n",
    "    feature_results = []\n",
    "    for result in results:\n",
    "        feature_results.append(result[feature_index])\n",
    "    return feature_results\n",
    "\n",
    "\n",
    "def get_mean_drops(results):\n",
    "    return get_feature(results, \"mean_drop\")\n",
    "    \n",
    "def get_impacts(results):\n",
    "    return get_feature(results, \"impact\")\n",
    "\n",
    "\n",
    "def plot_results(mean_metrics_results, title): \n",
    "    plt.bar(range(len(mean_metrics_results)), list(mean_metrics_results.values()), align='center')\n",
    "    plt.xticks(range(len(mean_metrics_results)), list(mean_metrics_results.keys()))\n",
    "    plt.title(title)\n",
    "    plt.show()\n",
    "'''\n",
    "extracts single feature from the results of all the metric tests\n",
    "\n",
    "example: \n",
    "\n",
    "all_results = {\n",
    "    \"cosine\": [(20, 10), (-15, 0)],\n",
    "    \"euclidean\": [(77, 12), (42, -13)],\n",
    "}\n",
    "\n",
    "feature_name = \"mean_drop\"\n",
    "\n",
    "output = {\n",
    "    \"cosine\": [20, -15],\n",
    "    \"euclidean\": [77, 42],\n",
    "}\n",
    "'''\n",
    "def extract_feature(all_results, feature_name):\n",
    "    all_results_copy = all_results.copy()\n",
    "    for test_name, results_raw in all_results_copy.items():\n",
    "        results_filtered = get_feature(results_raw, feature_name)\n",
    "        all_results_copy[test_name] = results_filtered\n",
    "    return all_results_copy\n",
    "\n",
    "\n",
    "def mean_feature(feature_results):\n",
    "    import statistics\n",
    "    mean_results = {}\n",
    "    for test_name, results in feature_results.items():\n",
    "        mean_results[test_name] = statistics.mean(results)\n",
    "    return mean_results"
   ]
  },
  {
   "cell_type": "code",
   "execution_count": 7,
   "id": "frozen-beginning",
   "metadata": {},
   "outputs": [
    {
     "data": {
      "text/plain": [
       "{'cosine': [0.04878263672192892, 0.04917379220326742],\n",
       " 'euclidean': [-0.01262769103050232, 0.024062538146972658],\n",
       " 'manhattan': [0.034343128403027855, 0.026837140321731567],\n",
       " 'mahalanobis': [0.034343128403027855, 0.04273578027884165],\n",
       " 'jaccard': [0.04878263672192892, 0.04917379220326742]}"
      ]
     },
     "execution_count": 7,
     "metadata": {},
     "output_type": "execute_result"
    }
   ],
   "source": [
    "extract_feature(tests_results, \"mean_drop\")"
   ]
  },
  {
   "cell_type": "code",
   "execution_count": 8,
   "id": "unlimited-poker",
   "metadata": {},
   "outputs": [
    {
     "data": {
      "text/plain": [
       "{'cosine': [0.0, 0.0],\n",
       " 'euclidean': [0.0, 0.0],\n",
       " 'manhattan': [0.0, 0.0],\n",
       " 'mahalanobis': [0.0, 0.0],\n",
       " 'jaccard': [0.0, 0.0]}"
      ]
     },
     "execution_count": 8,
     "metadata": {},
     "output_type": "execute_result"
    }
   ],
   "source": [
    "extract_feature(tests_results, \"impact\")"
   ]
  },
  {
   "cell_type": "code",
   "execution_count": 9,
   "id": "cubic-geometry",
   "metadata": {},
   "outputs": [
    {
     "data": {
      "text/plain": [
       "{'cosine': 0.04897821446259817,\n",
       " 'euclidean': 0.005717423558235169,\n",
       " 'manhattan': 0.03059013436237971,\n",
       " 'mahalanobis': 0.03853945434093475,\n",
       " 'jaccard': 0.04897821446259817}"
      ]
     },
     "execution_count": 9,
     "metadata": {},
     "output_type": "execute_result"
    }
   ],
   "source": [
    "drops = extract_feature(tests_results, \"mean_drop\")\n",
    "mean_drops = mean_feature(drops)\n",
    "mean_drops"
   ]
  },
  {
   "cell_type": "code",
   "execution_count": 10,
   "id": "competent-analyst",
   "metadata": {},
   "outputs": [
    {
     "data": {
      "text/plain": [
       "{'cosine': 0.0,\n",
       " 'euclidean': 0.0,\n",
       " 'manhattan': 0.0,\n",
       " 'mahalanobis': 0.0,\n",
       " 'jaccard': 0.0}"
      ]
     },
     "execution_count": 10,
     "metadata": {},
     "output_type": "execute_result"
    }
   ],
   "source": [
    "impacts = extract_feature(tests_results, \"impact\")\n",
    "mean_impacts = mean_feature(impacts)\n",
    "mean_impacts"
   ]
  },
  {
   "cell_type": "code",
   "execution_count": 11,
   "id": "satellite-journalism",
   "metadata": {},
   "outputs": [
    {
     "data": {
      "image/png": "[encoded data removed]",
      "text/plain": [
       "<Figure size 432x288 with 1 Axes>"
      ]
     },
     "metadata": {
      "needs_background": "light"
     },
     "output_type": "display_data"
    }
   ],
   "source": [
    "plot_results(mean_drops, \"Mean drop\")"
   ]
  },
  {
   "cell_type": "code",
   "execution_count": 12,
   "id": "existing-manner",
   "metadata": {},
   "outputs": [
    {
     "data": {
      "image/png": "[encoded data removed]",
      "text/plain": [
       "<Figure size 432x288 with 1 Axes>"
      ]
     },
     "metadata": {
      "needs_background": "light"
     },
     "output_type": "display_data"
    }
   ],
   "source": [
    "plot_results(mean_impacts, \"Mean impacts\")"
   ]
  },
  {
   "cell_type": "markdown",
   "id": "charged-rugby",
   "metadata": {},
   "source": [
    "## Save Results"
   ]
  },
  {
   "cell_type": "code",
   "execution_count": 13,
   "id": "common-pledge",
   "metadata": {},
   "outputs": [],
   "source": [
    "import pandas as pd "
   ]
  },
  {
   "cell_type": "code",
   "execution_count": 14,
   "id": "difficult-consumer",
   "metadata": {},
   "outputs": [
    {
     "data": {
      "text/html": [
       "<div>\n",
       "<style scoped>\n",
       "    .dataframe tbody tr th:only-of-type {\n",
       "        vertical-align: middle;\n",
       "    }\n",
       "\n",
       "    .dataframe tbody tr th {\n",
       "        vertical-align: top;\n",
       "    }\n",
       "\n",
       "    .dataframe thead th {\n",
       "        text-align: right;\n",
       "    }\n",
       "</style>\n",
       "<table border=\"1\" class=\"dataframe\">\n",
       "  <thead>\n",
       "    <tr style=\"text-align: right;\">\n",
       "      <th></th>\n",
       "      <th>cosine</th>\n",
       "      <th>euclidean</th>\n",
       "      <th>manhattan</th>\n",
       "      <th>mahalanobis</th>\n",
       "      <th>jaccard</th>\n",
       "      <th>tuples</th>\n",
       "      <th>triangles</th>\n",
       "      <th>threshold</th>\n",
       "    </tr>\n",
       "  </thead>\n",
       "  <tbody>\n",
       "    <tr>\n",
       "      <th>0</th>\n",
       "      <td>0.048978</td>\n",
       "      <td>0.005717</td>\n",
       "      <td>0.03059</td>\n",
       "      <td>0.038539</td>\n",
       "      <td>0.048978</td>\n",
       "      <td>2</td>\n",
       "      <td>[2, 5]</td>\n",
       "      <td>-2</td>\n",
       "    </tr>\n",
       "  </tbody>\n",
       "</table>\n",
       "</div>"
      ],
      "text/plain": [
       "     cosine  euclidean  manhattan  mahalanobis   jaccard  tuples triangles  \\\n",
       "0  0.048978   0.005717    0.03059     0.038539  0.048978       2    [2, 5]   \n",
       "\n",
       "   threshold  \n",
       "0         -2  "
      ]
     },
     "execution_count": 14,
     "metadata": {},
     "output_type": "execute_result"
    }
   ],
   "source": [
    "drops_benchmark = pd.DataFrame([mean_drops])\n",
    "drops_benchmark[\"tuples\"] = n_tuples\n",
    "drops_benchmark[\"triangles\"] = [n_triangles]\n",
    "drops_benchmark[\"threshold\"] = threshold_tuning\n",
    "\n",
    "drops_benchmark"
   ]
  },
  {
   "cell_type": "code",
   "execution_count": 22,
   "id": "cloudy-encoding",
   "metadata": {},
   "outputs": [],
   "source": [
    "import os\n",
    "save_path_drops = \"mean_drops_benchmarks.csv\"\n",
    "if os.path.exists(save_path_drops):\n",
    "    drops_benchmark.to_csv(save_path_drops, mode=\"a\", index=False, header=False)\n",
    "else:\n",
    "    drops_benchmark.to_csv(save_path_drops, mode=\"a\", index=False)"
   ]
  },
  {
   "cell_type": "code",
   "execution_count": 23,
   "id": "regional-conversation",
   "metadata": {},
   "outputs": [
    {
     "data": {
      "text/html": [
       "<div>\n",
       "<style scoped>\n",
       "    .dataframe tbody tr th:only-of-type {\n",
       "        vertical-align: middle;\n",
       "    }\n",
       "\n",
       "    .dataframe tbody tr th {\n",
       "        vertical-align: top;\n",
       "    }\n",
       "\n",
       "    .dataframe thead th {\n",
       "        text-align: right;\n",
       "    }\n",
       "</style>\n",
       "<table border=\"1\" class=\"dataframe\">\n",
       "  <thead>\n",
       "    <tr style=\"text-align: right;\">\n",
       "      <th></th>\n",
       "      <th>cosine</th>\n",
       "      <th>euclidean</th>\n",
       "      <th>manhattan</th>\n",
       "      <th>mahalanobis</th>\n",
       "      <th>jaccard</th>\n",
       "      <th>tuples</th>\n",
       "      <th>triangles</th>\n",
       "      <th>threshold</th>\n",
       "    </tr>\n",
       "  </thead>\n",
       "  <tbody>\n",
       "    <tr>\n",
       "      <th>0</th>\n",
       "      <td>0.048978</td>\n",
       "      <td>0.005717</td>\n",
       "      <td>0.03059</td>\n",
       "      <td>0.038539</td>\n",
       "      <td>0.048978</td>\n",
       "      <td>2</td>\n",
       "      <td>[2, 5]</td>\n",
       "      <td>-2</td>\n",
       "    </tr>\n",
       "  </tbody>\n",
       "</table>\n",
       "</div>"
      ],
      "text/plain": [
       "     cosine  euclidean  manhattan  mahalanobis   jaccard  tuples triangles  \\\n",
       "0  0.048978   0.005717    0.03059     0.038539  0.048978       2    [2, 5]   \n",
       "\n",
       "   threshold  \n",
       "0         -2  "
      ]
     },
     "execution_count": 23,
     "metadata": {},
     "output_type": "execute_result"
    }
   ],
   "source": [
    "pd.read_csv(save_path_drops)"
   ]
  },
  {
   "cell_type": "code",
   "execution_count": null,
   "id": "piano-colorado",
   "metadata": {},
   "outputs": [],
   "source": []
  }
 ],
 "metadata": {
  "kernelspec": {
   "display_name": "Python 3",
   "language": "python",
   "name": "python3"
  },
  "language_info": {
   "codemirror_mode": {
    "name": "ipython",
    "version": 3
   },
   "file_extension": ".py",
   "mimetype": "text/x-python",
   "name": "python",
   "nbconvert_exporter": "python",
   "pygments_lexer": "ipython3",
   "version": "3.8.5"
  }
 },
 "nbformat": 4,
 "nbformat_minor": 5
}
