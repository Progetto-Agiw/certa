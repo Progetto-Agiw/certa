{
 "cells": [
  {
   "cell_type": "code",
   "execution_count": 1,
   "id": "unavailable-barrier",
   "metadata": {},
   "outputs": [],
   "source": [
    "import matplotlib \n",
    "import matplotlib.pyplot as plt"
   ]
  },
  {
   "cell_type": "code",
   "execution_count": 3,
   "id": "official-correlation",
   "metadata": {},
   "outputs": [],
   "source": [
    "import example_deeper\n",
    "import certa.metrics"
   ]
  },
  {
   "cell_type": "code",
   "execution_count": 4,
   "id": "dominant-buying",
   "metadata": {},
   "outputs": [],
   "source": [
    "iterator = example_deeper.run(certa.metrics.get_cosine)"
   ]
  },
  {
   "cell_type": "code",
   "execution_count": 5,
   "id": "inappropriate-hardwood",
   "metadata": {
    "scrolled": true
   },
   "outputs": [
    {
     "name": "stdout",
     "output_type": "stream",
     "text": [
      "* Costruzione indice degli embeddings.....Fatto. 400001 embeddings totali.\n",
      "* Creazione del modello per il calcolo degli embeddings....\n",
      "* Inizializzo il tokenizzatore.....Fatto: 400001 parole totali.\n",
      "* Preparazione della matrice di embedding.....Fatto. Dimensioni matrice embeddings: (400002, 50)\n",
      "\n",
      "°°° EMBEDDING MODEL °°°\n",
      "Model: \"model\"\n",
      "__________________________________________________________________________________________________\n",
      "Layer (type)                    Output Shape         Param #     Connected to                     \n",
      "==================================================================================================\n",
      "Tupla_A (InputLayer)            [(None, None)]       0                                            \n",
      "__________________________________________________________________________________________________\n",
      "Tupla_B (InputLayer)            [(None, None)]       0                                            \n",
      "__________________________________________________________________________________________________\n",
      "Embedding_lookup (Embedding)    (None, None, 50)     20000100    Tupla_A[0][0]                    \n",
      "                                                                 Tupla_B[0][0]                    \n",
      "==================================================================================================\n",
      "Total params: 20,000,100\n",
      "Trainable params: 0\n",
      "Non-trainable params: 20,000,100\n",
      "__________________________________________________________________________________________________\n",
      "running CERTA with nt=8\n"
     ]
    },
    {
     "name": "stderr",
     "output_type": "stream",
     "text": [
      "100%|██████████| 8/8 [00:02<00:00,  3.11it/s]\n"
     ]
    },
    {
     "name": "stdout",
     "output_type": "stream",
     "text": [
      "defaultdict(<class 'int'>, {'Beer_Name': 0.0, 'Style': 0.0, 'ABV': 0.0})\n",
      "   match  e_score      drop    n_drop perturb  flip  impact  n_impact  \\\n",
      "0      0      0.0  0.008281  0.008282    drop     0     0.0       0.0   \n",
      "1      0      0.0  0.000172  0.000172  sample     0     0.0       0.0   \n",
      "\n",
      "    attributes  e_size  prediction  row  \n",
      "0  [Beer_Name]       1    0.999939  1-1  \n",
      "1  [Beer_Name]       1    0.999939  1-1  \n",
      "   match  e_score      drop    n_drop perturb  flip  impact  n_impact  \\\n",
      "0      0      0.0  0.002650  0.002650    drop     0     0.0       0.0   \n",
      "1      0      0.0  0.000016  0.000016  sample     0     0.0       0.0   \n",
      "\n",
      "  attributes  e_size  prediction  row  \n",
      "0    [Style]       1    0.999939  1-1  \n",
      "1    [Style]       1    0.999939  1-1  \n",
      "   match  e_score      drop    n_drop perturb  flip  impact  n_impact  \\\n",
      "0      0      0.0 -0.000007 -0.000007    drop     0     0.0       0.0   \n",
      "1      0      0.0  0.000007  0.000007  sample     0     0.0       0.0   \n",
      "\n",
      "  attributes  e_size  prediction  row  \n",
      "0      [ABV]       1    0.999939  1-1  \n",
      "1      [ABV]       1    0.999939  1-1  \n",
      "------------------------------------\n",
      "running CERTA with nt=10\n"
     ]
    },
    {
     "name": "stderr",
     "output_type": "stream",
     "text": [
      "100%|██████████| 10/10 [00:01<00:00,  7.43it/s]\n"
     ]
    },
    {
     "name": "stdout",
     "output_type": "stream",
     "text": [
      "defaultdict(<class 'int'>, {'Beer_Name': 0.1})\n",
      "   match  e_score      drop    n_drop perturb  flip  impact  n_impact  \\\n",
      "0      0      0.1  0.008281  0.008282    drop     0     0.0       0.0   \n",
      "1      0      0.1  0.000887  0.000887  sample     0     0.0       0.0   \n",
      "\n",
      "    attributes  e_size  prediction  row  \n",
      "0  [Beer_Name]       1    0.999939  1-1  \n",
      "1  [Beer_Name]       1    0.999939  1-1  \n",
      "------------------------------------\n",
      "running CERTA with nt=50\n"
     ]
    },
    {
     "name": "stderr",
     "output_type": "stream",
     "text": [
      "100%|██████████| 50/50 [00:07<00:00,  6.96it/s]\n"
     ]
    },
    {
     "name": "stdout",
     "output_type": "stream",
     "text": [
      "defaultdict(<class 'int'>, {'Beer_Name': 0.04, 'ABV': 0.04})\n",
      "   match  e_score      drop    n_drop perturb  flip  impact  n_impact  \\\n",
      "0      0     0.04  0.008281  0.008282    drop     0     0.0       0.0   \n",
      "1      0     0.04  0.000230  0.000230  sample     0     0.0       0.0   \n",
      "\n",
      "    attributes  e_size  prediction  row  \n",
      "0  [Beer_Name]       1    0.999939  1-1  \n",
      "1  [Beer_Name]       1    0.999939  1-1  \n",
      "   match  e_score      drop    n_drop perturb  flip  impact  n_impact  \\\n",
      "0      0     0.04 -0.000007 -0.000007    drop     0     0.0       0.0   \n",
      "1      0     0.04  0.000125  0.000125  sample     0     0.0       0.0   \n",
      "\n",
      "  attributes  e_size  prediction  row  \n",
      "0      [ABV]       1    0.999939  1-1  \n",
      "1      [ABV]       1    0.999939  1-1  \n",
      "------------------------------------\n"
     ]
    }
   ],
   "source": [
    "results = []\n",
    "for i in iterator:\n",
    "    results.append(i)"
   ]
  },
  {
   "cell_type": "code",
   "execution_count": 6,
   "id": "miniature-seventh",
   "metadata": {},
   "outputs": [
    {
     "data": {
      "text/plain": [
       "[(0.0, 0.0, 0.001853187878926595, 0.0),\n",
       " (0.0, 0.0, 0.002535909414291382, 0.0),\n",
       " (0.0, 0.0, 0.002409671743710836, 0.0)]"
      ]
     },
     "execution_count": 6,
     "metadata": {},
     "output_type": "execute_result"
    }
   ],
   "source": [
    "results"
   ]
  },
  {
   "cell_type": "markdown",
   "id": "central-failing",
   "metadata": {},
   "source": [
    "### TO-DO\n",
    "\n",
    "- mettere come parametri di run le varie metriche\n",
    "- bar plot per ogni metrica su impact e mean drop\n",
    "- effettuare scelta random delle coppie, invece che sequenziale (attenzione al seed)"
   ]
  },
  {
   "cell_type": "code",
   "execution_count": null,
   "id": "satisfied-memorial",
   "metadata": {},
   "outputs": [],
   "source": []
  }
 ],
 "metadata": {
  "kernelspec": {
   "display_name": "Python 3",
   "language": "python",
   "name": "python3"
  },
  "language_info": {
   "codemirror_mode": {
    "name": "ipython",
    "version": 3
   },
   "file_extension": ".py",
   "mimetype": "text/x-python",
   "name": "python",
   "nbconvert_exporter": "python",
   "pygments_lexer": "ipython3",
   "version": "3.8.5"
  }
 },
 "nbformat": 4,
 "nbformat_minor": 5
}
