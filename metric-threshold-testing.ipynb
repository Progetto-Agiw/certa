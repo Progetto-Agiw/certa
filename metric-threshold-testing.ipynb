{
 "cells": [
  {
   "cell_type": "code",
   "execution_count": 1,
   "id": "fabulous-animal",
   "metadata": {},
   "outputs": [],
   "source": [
    "import pandas as pd\n",
    "import matplotlib \n",
    "import matplotlib.pyplot as plt\n",
    "import certa.metrics"
   ]
  },
  {
   "cell_type": "code",
   "execution_count": 2,
   "id": "tracked-excuse",
   "metadata": {},
   "outputs": [],
   "source": [
    "def find_similarities(test_df: pd.DataFrame, m: float, similarity=certa.metrics.get_cosine):\n",
    "    lprefix = 'ltable_'\n",
    "    rprefix = 'rtable_'\n",
    "    ignore_columns = ['id']\n",
    "\n",
    "    l_columns = [col for col in list(test_df) if (\n",
    "        col.startswith(lprefix)) and (col not in ignore_columns)]\n",
    "    r_columns = [col for col in list(test_df) if col.startswith(\n",
    "        rprefix) and (col not in ignore_columns)]\n",
    "\n",
    "    l_string_test_df = test_df[l_columns].astype('str').agg(' '.join, axis=1)\n",
    "    r_string_test_df = test_df[r_columns].astype('str').agg(' '.join, axis=1)\n",
    "    label_df = test_df['label']\n",
    "\n",
    "    merged_string = pd.concat(\n",
    "        [l_string_test_df, r_string_test_df, label_df], ignore_index=True, axis=1)\n",
    "\n",
    "    sim_df = merged_string.apply(\n",
    "        lambda x: similarity(x[0], x[1]), axis=1)\n",
    "\n",
    "    tuples_ls_df = pd.concat([merged_string, sim_df],\n",
    "                             ignore_index=True, axis=1)\n",
    "\n",
    "    lpos_df = tuples_ls_df[tuples_ls_df[2] == 1]\n",
    "    lneg_df = tuples_ls_df[tuples_ls_df[2] == 0]\n",
    "\n",
    "    theta_max = lpos_df[3].mean() + m * lpos_df[3].std()\n",
    "    theta_min = lneg_df[3].mean() - m * lneg_df[3].std()\n",
    "\n",
    "    return theta_min, theta_max"
   ]
  },
  {
   "cell_type": "code",
   "execution_count": 3,
   "id": "revolutionary-universe",
   "metadata": {},
   "outputs": [],
   "source": [
    "def merge_sources(table, left_prefix, right_prefix, left_source, right_source, copy_from_table, ignore_from_table):\n",
    "    dataset = pd.DataFrame(\n",
    "        columns={col: table[col].dtype for col in copy_from_table})\n",
    "    ignore_column = copy_from_table + ignore_from_table\n",
    "\n",
    "    for _, row in table.iterrows():\n",
    "        leftid = row[left_prefix + 'id']\n",
    "        rightid = row[right_prefix + 'id']\n",
    "\n",
    "        new_row = {column: row[column] for column in copy_from_table}\n",
    "\n",
    "        try:\n",
    "            for id, source, prefix in [(leftid, left_source, left_prefix), (rightid, right_source, right_prefix)]:\n",
    "\n",
    "                for column in source.keys():\n",
    "                    if column not in ignore_column:\n",
    "                        new_row[prefix + column] = source.loc[id][column]\n",
    "\n",
    "            dataset = dataset.append(new_row, ignore_index=True)\n",
    "        except:\n",
    "            pass\n",
    "    return dataset"
   ]
  },
  {
   "cell_type": "markdown",
   "id": "metric-redhead",
   "metadata": {},
   "source": [
    "### Metric evaluation starts here"
   ]
  },
  {
   "cell_type": "code",
   "execution_count": 4,
   "id": "spread-detective",
   "metadata": {},
   "outputs": [],
   "source": [
    "datadir = 'datasets/beers/'\n",
    "lsource = pd.read_csv(datadir + 'tableA.csv')\n",
    "rsource = pd.read_csv(datadir + 'tableB.csv')\n",
    "train = pd.read_csv(datadir + 'train.csv')\n",
    "valid = pd.read_csv(datadir + 'valid.csv')\n",
    "test = pd.read_csv(datadir + 'test.csv')"
   ]
  },
  {
   "cell_type": "code",
   "execution_count": 5,
   "id": "weird-birmingham",
   "metadata": {},
   "outputs": [
    {
     "data": {
      "text/html": [
       "<div>\n",
       "<style scoped>\n",
       "    .dataframe tbody tr th:only-of-type {\n",
       "        vertical-align: middle;\n",
       "    }\n",
       "\n",
       "    .dataframe tbody tr th {\n",
       "        vertical-align: top;\n",
       "    }\n",
       "\n",
       "    .dataframe thead th {\n",
       "        text-align: right;\n",
       "    }\n",
       "</style>\n",
       "<table border=\"1\" class=\"dataframe\">\n",
       "  <thead>\n",
       "    <tr style=\"text-align: right;\">\n",
       "      <th></th>\n",
       "      <th>ltable_id</th>\n",
       "      <th>rtable_id</th>\n",
       "      <th>label</th>\n",
       "    </tr>\n",
       "  </thead>\n",
       "  <tbody>\n",
       "    <tr>\n",
       "      <th>0</th>\n",
       "      <td>2082</td>\n",
       "      <td>1496</td>\n",
       "      <td>0</td>\n",
       "    </tr>\n",
       "    <tr>\n",
       "      <th>1</th>\n",
       "      <td>982</td>\n",
       "      <td>2999</td>\n",
       "      <td>1</td>\n",
       "    </tr>\n",
       "    <tr>\n",
       "      <th>2</th>\n",
       "      <td>3715</td>\n",
       "      <td>2562</td>\n",
       "      <td>0</td>\n",
       "    </tr>\n",
       "    <tr>\n",
       "      <th>3</th>\n",
       "      <td>3246</td>\n",
       "      <td>284</td>\n",
       "      <td>0</td>\n",
       "    </tr>\n",
       "    <tr>\n",
       "      <th>4</th>\n",
       "      <td>1931</td>\n",
       "      <td>810</td>\n",
       "      <td>1</td>\n",
       "    </tr>\n",
       "  </tbody>\n",
       "</table>\n",
       "</div>"
      ],
      "text/plain": [
       "   ltable_id  rtable_id  label\n",
       "0       2082       1496      0\n",
       "1        982       2999      1\n",
       "2       3715       2562      0\n",
       "3       3246        284      0\n",
       "4       1931        810      1"
      ]
     },
     "execution_count": 5,
     "metadata": {},
     "output_type": "execute_result"
    }
   ],
   "source": [
    "train.head()"
   ]
  },
  {
   "cell_type": "code",
   "execution_count": 6,
   "id": "governmental-mobile",
   "metadata": {},
   "outputs": [],
   "source": [
    "valid_df = merge_sources(valid, 'ltable_', 'rtable_', lsource, rsource, ['label'], ['id'])"
   ]
  },
  {
   "cell_type": "code",
   "execution_count": 7,
   "id": "bizarre-pizza",
   "metadata": {},
   "outputs": [],
   "source": [
    "test_df = merge_sources(test, 'ltable_', 'rtable_', lsource, rsource, ['label'], ['id'])"
   ]
  },
  {
   "cell_type": "markdown",
   "id": "infrared-former",
   "metadata": {},
   "source": [
    "An option is to concatenate train, valid, test datasets (not necessary)"
   ]
  },
  {
   "cell_type": "code",
   "execution_count": 8,
   "id": "ready-standard",
   "metadata": {},
   "outputs": [
    {
     "data": {
      "text/html": [
       "<div>\n",
       "<style scoped>\n",
       "    .dataframe tbody tr th:only-of-type {\n",
       "        vertical-align: middle;\n",
       "    }\n",
       "\n",
       "    .dataframe tbody tr th {\n",
       "        vertical-align: top;\n",
       "    }\n",
       "\n",
       "    .dataframe thead th {\n",
       "        text-align: right;\n",
       "    }\n",
       "</style>\n",
       "<table border=\"1\" class=\"dataframe\">\n",
       "  <thead>\n",
       "    <tr style=\"text-align: right;\">\n",
       "      <th></th>\n",
       "      <th>label</th>\n",
       "      <th>ltable_ABV</th>\n",
       "      <th>ltable_Beer_Name</th>\n",
       "      <th>ltable_Brew_Factory_Name</th>\n",
       "      <th>ltable_Style</th>\n",
       "      <th>rtable_ABV</th>\n",
       "      <th>rtable_Beer_Name</th>\n",
       "      <th>rtable_Brew_Factory_Name</th>\n",
       "      <th>rtable_Style</th>\n",
       "    </tr>\n",
       "  </thead>\n",
       "  <tbody>\n",
       "    <tr>\n",
       "      <th>0</th>\n",
       "      <td>0</td>\n",
       "      <td>8.10 %</td>\n",
       "      <td>C N Red Imperial Red Ale</td>\n",
       "      <td>Redwood Lodge</td>\n",
       "      <td>American Amber / Red Ale</td>\n",
       "      <td>9.30 %</td>\n",
       "      <td>Kinetic Infrared Imperial Red Ale</td>\n",
       "      <td>Kinetic Brewing Company</td>\n",
       "      <td>American Strong Ale</td>\n",
       "    </tr>\n",
       "    <tr>\n",
       "      <th>1</th>\n",
       "      <td>1</td>\n",
       "      <td>5.60 %</td>\n",
       "      <td>Sanibel Red Island Ale</td>\n",
       "      <td>Point Ybel Brewing Company</td>\n",
       "      <td>American Amber / Red Ale</td>\n",
       "      <td>5.60 %</td>\n",
       "      <td>Point Ybel Sanibel Red Island Ale</td>\n",
       "      <td>Point Ybel Brewing Company</td>\n",
       "      <td>Irish Ale</td>\n",
       "    </tr>\n",
       "    <tr>\n",
       "      <th>2</th>\n",
       "      <td>0</td>\n",
       "      <td>6.80 %</td>\n",
       "      <td>Kniksen India Red Ale</td>\n",
       "      <td>7 Fjell Bryggeri</td>\n",
       "      <td>American Amber / Red Ale</td>\n",
       "      <td>6.50 %</td>\n",
       "      <td>Boneyard Skunkape India Red Ale</td>\n",
       "      <td>Boneyard Beer Company</td>\n",
       "      <td>India Pale Ale &amp;#40; IPA &amp;#41;</td>\n",
       "    </tr>\n",
       "    <tr>\n",
       "      <th>3</th>\n",
       "      <td>0</td>\n",
       "      <td>-</td>\n",
       "      <td>Buffalo Trace Bourbon Barrel Aged Amber Ale</td>\n",
       "      <td>Wolf Hills Brewing Company</td>\n",
       "      <td>American Amber / Red Ale</td>\n",
       "      <td>5 %</td>\n",
       "      <td>Ballast Point Calico Amber Ale - Rum Barrel Aged</td>\n",
       "      <td>Ballast Point Brewing Company</td>\n",
       "      <td>Amber Ale</td>\n",
       "    </tr>\n",
       "    <tr>\n",
       "      <th>4</th>\n",
       "      <td>1</td>\n",
       "      <td>6.50 %</td>\n",
       "      <td>Poor Richard 's Ale</td>\n",
       "      <td>Dry Dock Brewing Co. .</td>\n",
       "      <td>American Amber / Red Ale</td>\n",
       "      <td>7 %</td>\n",
       "      <td>21st Amendment Poor Richards Ale</td>\n",
       "      <td>21st Amendment Brewery</td>\n",
       "      <td>Traditional Ale</td>\n",
       "    </tr>\n",
       "  </tbody>\n",
       "</table>\n",
       "</div>"
      ],
      "text/plain": [
       "  label ltable_ABV                             ltable_Beer_Name  \\\n",
       "0     0     8.10 %                     C N Red Imperial Red Ale   \n",
       "1     1     5.60 %                       Sanibel Red Island Ale   \n",
       "2     0     6.80 %                        Kniksen India Red Ale   \n",
       "3     0          -  Buffalo Trace Bourbon Barrel Aged Amber Ale   \n",
       "4     1     6.50 %                          Poor Richard 's Ale   \n",
       "\n",
       "     ltable_Brew_Factory_Name              ltable_Style rtable_ABV  \\\n",
       "0               Redwood Lodge  American Amber / Red Ale     9.30 %   \n",
       "1  Point Ybel Brewing Company  American Amber / Red Ale     5.60 %   \n",
       "2            7 Fjell Bryggeri  American Amber / Red Ale     6.50 %   \n",
       "3  Wolf Hills Brewing Company  American Amber / Red Ale        5 %   \n",
       "4      Dry Dock Brewing Co. .  American Amber / Red Ale        7 %   \n",
       "\n",
       "                                   rtable_Beer_Name  \\\n",
       "0                 Kinetic Infrared Imperial Red Ale   \n",
       "1                 Point Ybel Sanibel Red Island Ale   \n",
       "2                   Boneyard Skunkape India Red Ale   \n",
       "3  Ballast Point Calico Amber Ale - Rum Barrel Aged   \n",
       "4                  21st Amendment Poor Richards Ale   \n",
       "\n",
       "        rtable_Brew_Factory_Name                    rtable_Style  \n",
       "0        Kinetic Brewing Company             American Strong Ale  \n",
       "1     Point Ybel Brewing Company                       Irish Ale  \n",
       "2          Boneyard Beer Company  India Pale Ale &#40; IPA &#41;  \n",
       "3  Ballast Point Brewing Company                       Amber Ale  \n",
       "4         21st Amendment Brewery                 Traditional Ale  "
      ]
     },
     "execution_count": 8,
     "metadata": {},
     "output_type": "execute_result"
    }
   ],
   "source": [
    "train_df = merge_sources(train, 'ltable_', 'rtable_', lsource, rsource, ['label'], ['id'])\n",
    "train_df.head()"
   ]
  },
  {
   "cell_type": "markdown",
   "id": "developing-insertion",
   "metadata": {},
   "source": [
    "**********************************************"
   ]
  },
  {
   "cell_type": "markdown",
   "id": "independent-degree",
   "metadata": {},
   "source": [
    "### Thresholds normalization (to do)"
   ]
  },
  {
   "cell_type": "code",
   "execution_count": 9,
   "id": "loaded-involvement",
   "metadata": {},
   "outputs": [],
   "source": [
    "m = -2"
   ]
  },
  {
   "cell_type": "code",
   "execution_count": 10,
   "id": "joined-contribution",
   "metadata": {},
   "outputs": [],
   "source": [
    "similarity = certa.metrics.get_cosine"
   ]
  },
  {
   "cell_type": "code",
   "execution_count": 11,
   "id": "romantic-metallic",
   "metadata": {},
   "outputs": [
    {
     "name": "stdout",
     "output_type": "stream",
     "text": [
      "0.6687408005066662 0.3492073600669692\n"
     ]
    }
   ],
   "source": [
    "theta_min, theta_max = find_similarities(train_df, m, similarity)\n",
    "print(theta_min, theta_max)"
   ]
  },
  {
   "cell_type": "code",
   "execution_count": 12,
   "id": "sought-character",
   "metadata": {},
   "outputs": [
    {
     "name": "stdout",
     "output_type": "stream",
     "text": [
      "0.6687408005066662 0.3492073600669692\n"
     ]
    }
   ],
   "source": [
    "lower_threshold = min(theta_min, theta_max)\n",
    "if lower_threshold < 0:\n",
    "    theta_min -= lower_threshold\n",
    "    theta_max -= lower_threshold\n",
    "print(theta_min, theta_max)"
   ]
  },
  {
   "cell_type": "code",
   "execution_count": 13,
   "id": "right-fifth",
   "metadata": {},
   "outputs": [
    {
     "name": "stdout",
     "output_type": "stream",
     "text": [
      "1.0 0.5221864133344264\n"
     ]
    }
   ],
   "source": [
    "higher_threshold = max(theta_min, theta_max)\n",
    "theta_min /= higher_threshold\n",
    "theta_max /= higher_threshold\n",
    "print(theta_min, theta_max)"
   ]
  },
  {
   "cell_type": "markdown",
   "id": "approved-debut",
   "metadata": {},
   "source": [
    "**********************************************"
   ]
  },
  {
   "cell_type": "markdown",
   "id": "large-moisture",
   "metadata": {},
   "source": [
    "### Makes every row a string instead of multiple columns, leaving the left/right tables separated"
   ]
  },
  {
   "cell_type": "code",
   "execution_count": 14,
   "id": "sustainable-weight",
   "metadata": {},
   "outputs": [
    {
     "data": {
      "text/html": [
       "<div>\n",
       "<style scoped>\n",
       "    .dataframe tbody tr th:only-of-type {\n",
       "        vertical-align: middle;\n",
       "    }\n",
       "\n",
       "    .dataframe tbody tr th {\n",
       "        vertical-align: top;\n",
       "    }\n",
       "\n",
       "    .dataframe thead th {\n",
       "        text-align: right;\n",
       "    }\n",
       "</style>\n",
       "<table border=\"1\" class=\"dataframe\">\n",
       "  <thead>\n",
       "    <tr style=\"text-align: right;\">\n",
       "      <th></th>\n",
       "      <th>label</th>\n",
       "      <th>ltable</th>\n",
       "      <th>rtable</th>\n",
       "    </tr>\n",
       "  </thead>\n",
       "  <tbody>\n",
       "    <tr>\n",
       "      <th>0</th>\n",
       "      <td>0</td>\n",
       "      <td>9.30 % Kinetic Infrared Imperial Red Ale Kinet...</td>\n",
       "      <td>8.10 % C N Red Imperial Red Ale Redwood Lodge ...</td>\n",
       "    </tr>\n",
       "    <tr>\n",
       "      <th>1</th>\n",
       "      <td>1</td>\n",
       "      <td>5.60 % Point Ybel Sanibel Red Island Ale Point...</td>\n",
       "      <td>5.60 % Sanibel Red Island Ale Point Ybel Brewi...</td>\n",
       "    </tr>\n",
       "    <tr>\n",
       "      <th>2</th>\n",
       "      <td>0</td>\n",
       "      <td>6.50 % Boneyard Skunkape India Red Ale Boneyar...</td>\n",
       "      <td>6.80 % Kniksen India Red Ale 7 Fjell Bryggeri ...</td>\n",
       "    </tr>\n",
       "    <tr>\n",
       "      <th>3</th>\n",
       "      <td>0</td>\n",
       "      <td>5 % Ballast Point Calico Amber Ale - Rum Barre...</td>\n",
       "      <td>- Buffalo Trace Bourbon Barrel Aged Amber Ale ...</td>\n",
       "    </tr>\n",
       "    <tr>\n",
       "      <th>4</th>\n",
       "      <td>1</td>\n",
       "      <td>7 % 21st Amendment Poor Richards Ale 21st Amen...</td>\n",
       "      <td>6.50 % Poor Richard 's Ale Dry Dock Brewing Co...</td>\n",
       "    </tr>\n",
       "  </tbody>\n",
       "</table>\n",
       "</div>"
      ],
      "text/plain": [
       "  label                                             ltable  \\\n",
       "0     0  9.30 % Kinetic Infrared Imperial Red Ale Kinet...   \n",
       "1     1  5.60 % Point Ybel Sanibel Red Island Ale Point...   \n",
       "2     0  6.50 % Boneyard Skunkape India Red Ale Boneyar...   \n",
       "3     0  5 % Ballast Point Calico Amber Ale - Rum Barre...   \n",
       "4     1  7 % 21st Amendment Poor Richards Ale 21st Amen...   \n",
       "\n",
       "                                              rtable  \n",
       "0  8.10 % C N Red Imperial Red Ale Redwood Lodge ...  \n",
       "1  5.60 % Sanibel Red Island Ale Point Ybel Brewi...  \n",
       "2  6.80 % Kniksen India Red Ale 7 Fjell Bryggeri ...  \n",
       "3  - Buffalo Trace Bourbon Barrel Aged Amber Ale ...  \n",
       "4  6.50 % Poor Richard 's Ale Dry Dock Brewing Co...  "
      ]
     },
     "execution_count": 14,
     "metadata": {},
     "output_type": "execute_result"
    }
   ],
   "source": [
    "df = train_df.copy().astype(str)\n",
    "\n",
    "l_columns = [col for col in df if col.startswith('ltable_') or col=='label']\n",
    "r_columns = [col for col in df if col.startswith('rtable_') or col=='label']\n",
    "\n",
    "df['ltable'] = df.drop(l_columns, axis=1).apply(lambda x: ' '.join(x.values.tolist()), axis=1)\n",
    "df['rtable'] = df.drop(r_columns, axis=1).apply(lambda x: ' '.join(x.values.tolist()), axis=1)\n",
    "\n",
    "cols_to_remove = [col for col in l_columns + r_columns if col != 'label']\n",
    "df_clean = df.drop(cols_to_remove, axis=1)\n",
    "df_clean.head()"
   ]
  },
  {
   "cell_type": "code",
   "execution_count": 15,
   "id": "helpful-angle",
   "metadata": {},
   "outputs": [],
   "source": [
    "similarity_functions = [\n",
    "    certa.metrics.get_cosine,\n",
    "    certa.metrics.euclidean_distance,\n",
    "    certa.metrics.minkowski_distance,\n",
    "    certa.metrics.manhattan_distance,\n",
    "    certa.metrics.mahalanobis_distance,\n",
    "    certa.metrics.jaccard_similarity\n",
    "]\n",
    "m_values = range(-5, 6)"
   ]
  },
  {
   "cell_type": "markdown",
   "id": "recorded-healthcare",
   "metadata": {},
   "source": [
    "### Calculates the similarity values between the left/right part in each dataframe row"
   ]
  },
  {
   "cell_type": "code",
   "execution_count": 16,
   "id": "greater-bunny",
   "metadata": {
    "scrolled": true
   },
   "outputs": [],
   "source": [
    "def calculate_similarity_values(df: pd.DataFrame, similarity):\n",
    "    similarity_values = []\n",
    "    \n",
    "    for _, data in df.iterrows():\n",
    "        l_row = data['ltable']\n",
    "        r_row = data['rtable']\n",
    "        similarity_values.append(similarity(l_row, r_row))\n",
    "        \n",
    "    return similarity_values"
   ]
  },
  {
   "cell_type": "code",
   "execution_count": 17,
   "id": "documented-fever",
   "metadata": {},
   "outputs": [
    {
     "data": {
      "text/html": [
       "<div>\n",
       "<style scoped>\n",
       "    .dataframe tbody tr th:only-of-type {\n",
       "        vertical-align: middle;\n",
       "    }\n",
       "\n",
       "    .dataframe tbody tr th {\n",
       "        vertical-align: top;\n",
       "    }\n",
       "\n",
       "    .dataframe thead th {\n",
       "        text-align: right;\n",
       "    }\n",
       "</style>\n",
       "<table border=\"1\" class=\"dataframe\">\n",
       "  <thead>\n",
       "    <tr style=\"text-align: right;\">\n",
       "      <th></th>\n",
       "      <th>label</th>\n",
       "      <th>ltable</th>\n",
       "      <th>rtable</th>\n",
       "      <th>similarity</th>\n",
       "    </tr>\n",
       "  </thead>\n",
       "  <tbody>\n",
       "    <tr>\n",
       "      <th>0</th>\n",
       "      <td>0</td>\n",
       "      <td>9.30 % Kinetic Infrared Imperial Red Ale Kinet...</td>\n",
       "      <td>8.10 % C N Red Imperial Red Ale Redwood Lodge ...</td>\n",
       "      <td>0.835240</td>\n",
       "    </tr>\n",
       "    <tr>\n",
       "      <th>1</th>\n",
       "      <td>1</td>\n",
       "      <td>5.60 % Point Ybel Sanibel Red Island Ale Point...</td>\n",
       "      <td>5.60 % Sanibel Red Island Ale Point Ybel Brewi...</td>\n",
       "      <td>0.962140</td>\n",
       "    </tr>\n",
       "    <tr>\n",
       "      <th>2</th>\n",
       "      <td>0</td>\n",
       "      <td>6.50 % Boneyard Skunkape India Red Ale Boneyar...</td>\n",
       "      <td>6.80 % Kniksen India Red Ale 7 Fjell Bryggeri ...</td>\n",
       "      <td>0.875413</td>\n",
       "    </tr>\n",
       "    <tr>\n",
       "      <th>3</th>\n",
       "      <td>0</td>\n",
       "      <td>5 % Ballast Point Calico Amber Ale - Rum Barre...</td>\n",
       "      <td>- Buffalo Trace Bourbon Barrel Aged Amber Ale ...</td>\n",
       "      <td>0.898322</td>\n",
       "    </tr>\n",
       "    <tr>\n",
       "      <th>4</th>\n",
       "      <td>1</td>\n",
       "      <td>7 % 21st Amendment Poor Richards Ale 21st Amen...</td>\n",
       "      <td>6.50 % Poor Richard 's Ale Dry Dock Brewing Co...</td>\n",
       "      <td>0.813699</td>\n",
       "    </tr>\n",
       "  </tbody>\n",
       "</table>\n",
       "</div>"
      ],
      "text/plain": [
       "  label                                             ltable  \\\n",
       "0     0  9.30 % Kinetic Infrared Imperial Red Ale Kinet...   \n",
       "1     1  5.60 % Point Ybel Sanibel Red Island Ale Point...   \n",
       "2     0  6.50 % Boneyard Skunkape India Red Ale Boneyar...   \n",
       "3     0  5 % Ballast Point Calico Amber Ale - Rum Barre...   \n",
       "4     1  7 % 21st Amendment Poor Richards Ale 21st Amen...   \n",
       "\n",
       "                                              rtable  similarity  \n",
       "0  8.10 % C N Red Imperial Red Ale Redwood Lodge ...    0.835240  \n",
       "1  5.60 % Sanibel Red Island Ale Point Ybel Brewi...    0.962140  \n",
       "2  6.80 % Kniksen India Red Ale 7 Fjell Bryggeri ...    0.875413  \n",
       "3  - Buffalo Trace Bourbon Barrel Aged Amber Ale ...    0.898322  \n",
       "4  6.50 % Poor Richard 's Ale Dry Dock Brewing Co...    0.813699  "
      ]
     },
     "execution_count": 17,
     "metadata": {},
     "output_type": "execute_result"
    }
   ],
   "source": [
    "df_test = df_clean.copy()\n",
    "df_test['similarity'] = calculate_similarity_values(df_test, similarity)\n",
    "df_test.head()"
   ]
  },
  {
   "cell_type": "markdown",
   "id": "honest-absence",
   "metadata": {},
   "source": [
    "### Normalizes the similarity values to [0,1] interval"
   ]
  },
  {
   "cell_type": "code",
   "execution_count": 18,
   "id": "assigned-supplement",
   "metadata": {},
   "outputs": [],
   "source": [
    "def normalize_similarity_values(df: pd.DataFrame):\n",
    "    similarity_col = df['similarity']\n",
    "    min_similarity = similarity_col.min()\n",
    "    max_similarity = similarity_col.max()\n",
    "    \n",
    "    if min_similarity < 0:\n",
    "        similarity_col = similarity_col - min_similarity\n",
    "\n",
    "    return similarity_col / max_similarity"
   ]
  },
  {
   "cell_type": "code",
   "execution_count": 19,
   "id": "north-range",
   "metadata": {},
   "outputs": [
    {
     "data": {
      "text/html": [
       "<div>\n",
       "<style scoped>\n",
       "    .dataframe tbody tr th:only-of-type {\n",
       "        vertical-align: middle;\n",
       "    }\n",
       "\n",
       "    .dataframe tbody tr th {\n",
       "        vertical-align: top;\n",
       "    }\n",
       "\n",
       "    .dataframe thead th {\n",
       "        text-align: right;\n",
       "    }\n",
       "</style>\n",
       "<table border=\"1\" class=\"dataframe\">\n",
       "  <thead>\n",
       "    <tr style=\"text-align: right;\">\n",
       "      <th></th>\n",
       "      <th>label</th>\n",
       "      <th>ltable</th>\n",
       "      <th>rtable</th>\n",
       "      <th>similarity</th>\n",
       "    </tr>\n",
       "  </thead>\n",
       "  <tbody>\n",
       "    <tr>\n",
       "      <th>0</th>\n",
       "      <td>0</td>\n",
       "      <td>9.30 % Kinetic Infrared Imperial Red Ale Kinet...</td>\n",
       "      <td>8.10 % C N Red Imperial Red Ale Redwood Lodge ...</td>\n",
       "      <td>0.845616</td>\n",
       "    </tr>\n",
       "    <tr>\n",
       "      <th>1</th>\n",
       "      <td>1</td>\n",
       "      <td>5.60 % Point Ybel Sanibel Red Island Ale Point...</td>\n",
       "      <td>5.60 % Sanibel Red Island Ale Point Ybel Brewi...</td>\n",
       "      <td>0.974093</td>\n",
       "    </tr>\n",
       "    <tr>\n",
       "      <th>2</th>\n",
       "      <td>0</td>\n",
       "      <td>6.50 % Boneyard Skunkape India Red Ale Boneyar...</td>\n",
       "      <td>6.80 % Kniksen India Red Ale 7 Fjell Bryggeri ...</td>\n",
       "      <td>0.886288</td>\n",
       "    </tr>\n",
       "    <tr>\n",
       "      <th>3</th>\n",
       "      <td>0</td>\n",
       "      <td>5 % Ballast Point Calico Amber Ale - Rum Barre...</td>\n",
       "      <td>- Buffalo Trace Bourbon Barrel Aged Amber Ale ...</td>\n",
       "      <td>0.909482</td>\n",
       "    </tr>\n",
       "    <tr>\n",
       "      <th>4</th>\n",
       "      <td>1</td>\n",
       "      <td>7 % 21st Amendment Poor Richards Ale 21st Amen...</td>\n",
       "      <td>6.50 % Poor Richard 's Ale Dry Dock Brewing Co...</td>\n",
       "      <td>0.823808</td>\n",
       "    </tr>\n",
       "  </tbody>\n",
       "</table>\n",
       "</div>"
      ],
      "text/plain": [
       "  label                                             ltable  \\\n",
       "0     0  9.30 % Kinetic Infrared Imperial Red Ale Kinet...   \n",
       "1     1  5.60 % Point Ybel Sanibel Red Island Ale Point...   \n",
       "2     0  6.50 % Boneyard Skunkape India Red Ale Boneyar...   \n",
       "3     0  5 % Ballast Point Calico Amber Ale - Rum Barre...   \n",
       "4     1  7 % 21st Amendment Poor Richards Ale 21st Amen...   \n",
       "\n",
       "                                              rtable  similarity  \n",
       "0  8.10 % C N Red Imperial Red Ale Redwood Lodge ...    0.845616  \n",
       "1  5.60 % Sanibel Red Island Ale Point Ybel Brewi...    0.974093  \n",
       "2  6.80 % Kniksen India Red Ale 7 Fjell Bryggeri ...    0.886288  \n",
       "3  - Buffalo Trace Bourbon Barrel Aged Amber Ale ...    0.909482  \n",
       "4  6.50 % Poor Richard 's Ale Dry Dock Brewing Co...    0.823808  "
      ]
     },
     "execution_count": 19,
     "metadata": {},
     "output_type": "execute_result"
    }
   ],
   "source": [
    "df_test['similarity'] = normalize_similarity_values(df_test)\n",
    "df_test.head()"
   ]
  },
  {
   "cell_type": "markdown",
   "id": "suspended-removal",
   "metadata": {},
   "source": [
    "### Calculates the error between the label and the similarity value"
   ]
  },
  {
   "cell_type": "code",
   "execution_count": 20,
   "id": "cardiovascular-desperate",
   "metadata": {},
   "outputs": [],
   "source": [
    "def calculate_error_values(df: pd.DataFrame):\n",
    "    error_values = []\n",
    "\n",
    "    for _, data in df.iterrows():\n",
    "        label = data['label']\n",
    "        similarity_value = data['similarity']\n",
    "        if label == '1':\n",
    "            error_values.append(int(label) - similarity_value)\n",
    "        else:\n",
    "            error_values.append(similarity_value)\n",
    "\n",
    "    return error_values"
   ]
  },
  {
   "cell_type": "code",
   "execution_count": 21,
   "id": "vocational-voltage",
   "metadata": {},
   "outputs": [
    {
     "data": {
      "text/html": [
       "<div>\n",
       "<style scoped>\n",
       "    .dataframe tbody tr th:only-of-type {\n",
       "        vertical-align: middle;\n",
       "    }\n",
       "\n",
       "    .dataframe tbody tr th {\n",
       "        vertical-align: top;\n",
       "    }\n",
       "\n",
       "    .dataframe thead th {\n",
       "        text-align: right;\n",
       "    }\n",
       "</style>\n",
       "<table border=\"1\" class=\"dataframe\">\n",
       "  <thead>\n",
       "    <tr style=\"text-align: right;\">\n",
       "      <th></th>\n",
       "      <th>label</th>\n",
       "      <th>ltable</th>\n",
       "      <th>rtable</th>\n",
       "      <th>similarity</th>\n",
       "      <th>error</th>\n",
       "    </tr>\n",
       "  </thead>\n",
       "  <tbody>\n",
       "    <tr>\n",
       "      <th>0</th>\n",
       "      <td>0</td>\n",
       "      <td>9.30 % Kinetic Infrared Imperial Red Ale Kinet...</td>\n",
       "      <td>8.10 % C N Red Imperial Red Ale Redwood Lodge ...</td>\n",
       "      <td>0.845616</td>\n",
       "      <td>0.845616</td>\n",
       "    </tr>\n",
       "    <tr>\n",
       "      <th>1</th>\n",
       "      <td>1</td>\n",
       "      <td>5.60 % Point Ybel Sanibel Red Island Ale Point...</td>\n",
       "      <td>5.60 % Sanibel Red Island Ale Point Ybel Brewi...</td>\n",
       "      <td>0.974093</td>\n",
       "      <td>0.025907</td>\n",
       "    </tr>\n",
       "    <tr>\n",
       "      <th>2</th>\n",
       "      <td>0</td>\n",
       "      <td>6.50 % Boneyard Skunkape India Red Ale Boneyar...</td>\n",
       "      <td>6.80 % Kniksen India Red Ale 7 Fjell Bryggeri ...</td>\n",
       "      <td>0.886288</td>\n",
       "      <td>0.886288</td>\n",
       "    </tr>\n",
       "    <tr>\n",
       "      <th>3</th>\n",
       "      <td>0</td>\n",
       "      <td>5 % Ballast Point Calico Amber Ale - Rum Barre...</td>\n",
       "      <td>- Buffalo Trace Bourbon Barrel Aged Amber Ale ...</td>\n",
       "      <td>0.909482</td>\n",
       "      <td>0.909482</td>\n",
       "    </tr>\n",
       "    <tr>\n",
       "      <th>4</th>\n",
       "      <td>1</td>\n",
       "      <td>7 % 21st Amendment Poor Richards Ale 21st Amen...</td>\n",
       "      <td>6.50 % Poor Richard 's Ale Dry Dock Brewing Co...</td>\n",
       "      <td>0.823808</td>\n",
       "      <td>0.176192</td>\n",
       "    </tr>\n",
       "  </tbody>\n",
       "</table>\n",
       "</div>"
      ],
      "text/plain": [
       "  label                                             ltable  \\\n",
       "0     0  9.30 % Kinetic Infrared Imperial Red Ale Kinet...   \n",
       "1     1  5.60 % Point Ybel Sanibel Red Island Ale Point...   \n",
       "2     0  6.50 % Boneyard Skunkape India Red Ale Boneyar...   \n",
       "3     0  5 % Ballast Point Calico Amber Ale - Rum Barre...   \n",
       "4     1  7 % 21st Amendment Poor Richards Ale 21st Amen...   \n",
       "\n",
       "                                              rtable  similarity     error  \n",
       "0  8.10 % C N Red Imperial Red Ale Redwood Lodge ...    0.845616  0.845616  \n",
       "1  5.60 % Sanibel Red Island Ale Point Ybel Brewi...    0.974093  0.025907  \n",
       "2  6.80 % Kniksen India Red Ale 7 Fjell Bryggeri ...    0.886288  0.886288  \n",
       "3  - Buffalo Trace Bourbon Barrel Aged Amber Ale ...    0.909482  0.909482  \n",
       "4  6.50 % Poor Richard 's Ale Dry Dock Brewing Co...    0.823808  0.176192  "
      ]
     },
     "execution_count": 21,
     "metadata": {},
     "output_type": "execute_result"
    }
   ],
   "source": [
    "df_test['error'] = calculate_error_values(df_test)\n",
    "df_test.head()"
   ]
  },
  {
   "cell_type": "markdown",
   "id": "revised-sampling",
   "metadata": {},
   "source": [
    "### Calculates the mean error between the label (0,1) and the similarity value [0,1]"
   ]
  },
  {
   "cell_type": "code",
   "execution_count": 22,
   "id": "occupied-bumper",
   "metadata": {},
   "outputs": [],
   "source": [
    "def mean_error(df: pd.DataFrame):\n",
    "    return df['error'].mean()"
   ]
  },
  {
   "cell_type": "markdown",
   "id": "unlimited-diabetes",
   "metadata": {},
   "source": [
    "### Processes the input dataframe with all the necessary operations"
   ]
  },
  {
   "cell_type": "code",
   "execution_count": 30,
   "id": "falling-workplace",
   "metadata": {},
   "outputs": [],
   "source": [
    "def processing_pipeline(df: pd.DataFrame, metric):\n",
    "    df['similarity'] = calculate_similarity_values(df, metric)\n",
    "    df['similarity'] = normalize_similarity_values(df)\n",
    "    df['error'] = calculate_error_values(df)\n",
    "\n",
    "    return df   "
   ]
  },
  {
   "cell_type": "markdown",
   "id": "animal-closing",
   "metadata": {},
   "source": [
    "### Function to plot results"
   ]
  },
  {
   "cell_type": "code",
   "execution_count": 27,
   "id": "blond-evanescence",
   "metadata": {},
   "outputs": [],
   "source": [
    "def plot_results(results):\n",
    "    plt.bar(range(results.shape[0]), results['mean_error'], align='center')\n",
    "    plt.xticks(range(6), results['metric'], rotation=20)\n",
    "    plt.title('Mean Error of similarity metrics evaluating the label')\n",
    "    plt.show()"
   ]
  },
  {
   "cell_type": "markdown",
   "id": "golden-solution",
   "metadata": {},
   "source": [
    "### Iterate over all metric functions and save the results"
   ]
  },
  {
   "cell_type": "code",
   "execution_count": 29,
   "id": "unique-upset",
   "metadata": {},
   "outputs": [
    {
     "data": {
      "image/png": "[encoded data removed]",
      "text/plain": [
       "<Figure size 432x288 with 1 Axes>"
      ]
     },
     "metadata": {
      "needs_background": "light"
     },
     "output_type": "display_data"
    }
   ],
   "source": [
    "results = pd.DataFrame(columns=['metric', 'mean_error'])\n",
    "\n",
    "for metric in similarity_functions:\n",
    "    df_test = df_clean.copy()\n",
    "    df_test = processing_pipeline(df_test, metric)\n",
    "    results = results.append({'metric': metric.__name__, 'mean_error': mean_error(df_test)}, ignore_index=True)\n",
    "\n",
    "plot_results(results)"
   ]
  },
  {
   "cell_type": "code",
   "execution_count": null,
   "id": "dense-emergency",
   "metadata": {},
   "outputs": [],
   "source": []
  }
 ],
 "metadata": {
  "kernelspec": {
   "display_name": "Python [conda env:certa-env] *",
   "language": "python",
   "name": "conda-env-certa-env-py"
  },
  "language_info": {
   "codemirror_mode": {
    "name": "ipython",
    "version": 3
   },
   "file_extension": ".py",
   "mimetype": "text/x-python",
   "name": "python",
   "nbconvert_exporter": "python",
   "pygments_lexer": "ipython3",
   "version": "3.7.0"
  }
 },
 "nbformat": 4,
 "nbformat_minor": 5
}
